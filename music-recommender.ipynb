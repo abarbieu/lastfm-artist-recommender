{
 "cells": [
  {
   "cell_type": "code",
   "execution_count": 1,
   "id": "0faa6428-0365-40c2-85b3-68ac71c5c10c",
   "metadata": {},
   "outputs": [],
   "source": [
    "import numpy as np\n",
    "import pandas as pd\n",
    "from scipy import sparse\n",
    "from scipy import stats\n",
    "from matplotlib import pyplot as plt\n",
    "import seaborn as sns\n",
    "%matplotlib inline"
   ]
  },
  {
   "cell_type": "code",
   "execution_count": 2,
   "id": "f524bc1a-e977-4699-a160-c0ebb7a78d9b",
   "metadata": {},
   "outputs": [],
   "source": [
    "def ugraphs(scrobsdf, colname):\n",
    "    scrobsM = sparse.lil_matrix((max(scrobsdf[\"user_id\"])+1, max(scrobsdf[\"artist_id\"])+1)) # 0 indexing\n",
    "    scrobsM[scrobsdf[\"user_id\"], scrobsdf[\"artist_id\"]] = scrobsdf[colname]\n",
    "    scrobsM = scrobsM.tocsr()\n",
    "\n",
    "    fig = plt.figure()\n",
    "    fig.subplots_adjust(hspace=0.5, wspace=0.3)\n",
    "    ax = fig.add_subplot(2,2,1)\n",
    "    ax.set_xlabel(\"scrobbles\")\n",
    "    sns.histplot(scrobsM[1].data,ax=ax)\n",
    "    for i in range(2,5):\n",
    "        ax = fig.add_subplot(2, 2, i)\n",
    "        ax.set_xlabel(\"scrobbles\")\n",
    "        sns.histplot(scrobsM[i+11].data, ax=ax)\n",
    "\n",
    "    plt.show()"
   ]
  },
  {
   "cell_type": "code",
   "execution_count": 3,
   "id": "1d607d5f-b2ca-48d7-b52c-d40571e2f24d",
   "metadata": {},
   "outputs": [],
   "source": [
    "def topnart(scrobsdf, colname, n=10):\n",
    "    artdf = pd.read_csv(\"./data/lastfm_artist_list.csv\")\n",
    "    artdf = artdf.set_index(\"artist_id\")\n",
    "    artists = artdf.to_numpy().flatten()\n",
    "    artists = np.insert(artists,0,'___empty___')\n",
    "    \n",
    "    scrobsM = sparse.lil_matrix((max(scrobsdf[\"user_id\"])+1, max(scrobsdf[\"artist_id\"])+1)) # 0 indexing\n",
    "    scrobsM[scrobsdf[\"user_id\"], scrobsdf[\"artist_id\"]] = scrobsdf[colname]\n",
    "    scrobsM = scrobsM.tocsr()\n",
    "    \n",
    "    mask = (scrobsM.getnnz(axis=0) == 0)\n",
    "    nnz = scrobsM.getnnz(axis=0)\n",
    "    nnz[mask] = 1\n",
    "    scores = scrobsM.sum(axis=0).A[0]#/nnz\n",
    "    \n",
    "    top50 = artists[scores.argsort()[::-1]][:n]\n",
    "    scores.sort()\n",
    "    scores = scores[::-1][:n]\n",
    "    df = pd.DataFrame(np.array([top50,scores]).T, columns = [\"artist\", colname])\n",
    "    return df\n",
    "\n",
    "def artgraphs(scrobsdf):\n",
    "    sp = topnart(scrobsdf,\"scrobbles\", 100)\n",
    "    palette = dict(zip(sp.artist, sns.color_palette(n_colors=100)))\n",
    "    s = topnart(scrobsdf,\"scrobbles\")\n",
    "    r = topnart(scrobsdf,\"rating\")\n",
    "    r1 = topnart(scrobsdf,\"rating1\")\n",
    "\n",
    "#     s = s.merge(r,how=\"left\",on=\"artist\")\n",
    "#     s = s.merge(r1,how=\"left\",on=\"artist\")\n",
    "    fig = plt.figure(figsize=(10, 10), dpi=80)\n",
    "    fig.subplots_adjust(hspace = .2, wspace = .6)\n",
    "    ax = fig.add_subplot(2,2,1)\n",
    "    ax.set_title(\"top 10 artists by scrobbles\")\n",
    "    sns.barplot(y=s.artist,x=s.scrobbles,ax=ax, palette = palette)\n",
    "    \n",
    "    ax = fig.add_subplot(2,2,2)\n",
    "    ax.set_title(\"top 10 artists by rating\")\n",
    "    sns.barplot(y=r.artist,x=r.rating,ax=ax,palette = palette)\n",
    "    \n",
    "    ax = fig.add_subplot(2,2,3)\n",
    "    ax.set_title(\"top 10 artists by rating1\")\n",
    "    \n",
    "    sns.barplot(y=r1.artist,x=r1.rating1,ax=ax,palette = palette)"
   ]
  },
  {
   "cell_type": "code",
   "execution_count": 4,
   "id": "345dacf7-5821-421e-9ea5-108a49679442",
   "metadata": {},
   "outputs": [],
   "source": [
    "def ratgraphs(scrobsdf, nname):\n",
    "    fig = plt.figure(figsize=(10, 10), dpi=80)\n",
    "    fig.subplots_adjust(hspace = .5, wspace = .4)\n",
    "    ax = fig.add_subplot(3,3,1)\n",
    "    ax.set_xlabel(\"rating\")\n",
    "    ax.set_title(\"original\")\n",
    "    sns.histplot(scrobsdf[nname], ax=ax)\n",
    "\n",
    "    ax = fig.add_subplot(3,3,2)\n",
    "    ax.set_xlabel(\"rating\")\n",
    "    ax.set_title(\"log(x+0)\")\n",
    "    newrating = np.log(scrobsdf[nname])\n",
    "    newrating += abs(min(newrating))\n",
    "    patches = sns.histplot(newrating, ax=ax).patches\n",
    "    ax.axvline(x=patches[np.argmax([x.get_height() for x in patches])].get_x(), color='red')\n",
    "    for i in range(3,10):\n",
    "        ax = fig.add_subplot(3, 3, i)\n",
    "        ax.set_xlabel(\"rating\")\n",
    "        eps = 10**-(i/4)\n",
    "\n",
    "        ax.set_title(f\"log(x+{eps:0.3})\")\n",
    "        newrating = (np.log(scrobsdf[nname]+eps))\n",
    "        newrating += abs(min(newrating))\n",
    "        data = newrating\n",
    "        _, bins, _ = plt.hist(data, 200, alpha=0.5, density=1)\n",
    "\n",
    "        mu, sigma = stats.norm.fit(data)\n",
    "\n",
    "        best_fit_line = stats.norm.pdf(bins, mu, sigma)\n",
    "\n",
    "        ax.plot(bins, best_fit_line)"
   ]
  },
  {
   "cell_type": "code",
   "execution_count": 5,
   "id": "559a3f36-1795-4159-a349-ef4b60db9395",
   "metadata": {},
   "outputs": [],
   "source": [
    "def recalc_ratings():\n",
    "    scrobsdf = pd.read_csv(\"./udata/top_artists_smaller.csv\")\n",
    "    scrobsdf.columns = [\"user_id\", \"artist_id\", \"scrobbles\"]\n",
    "    artdf = pd.read_csv(\"./udata/artistids.pcpsv\", sep=\"\\|,\\|\", engine=\"python\", header=None)\n",
    "    artdf.columns=[\"artist_id\", \"artist_name\"]\n",
    "    artdf = artdf.set_index(\"artist_id\")\n",
    "    \n",
    "    artists = artdf.to_numpy().flatten()\n",
    "    artists = np.insert(artists,0,'___empty___')\n",
    "    \n",
    "    scrobsdf[\"artist_name\"] = artists[scrobsdf[\"artist_id\"].to_numpy()]\n",
    "\n",
    "    uscrobs = scrobsdf.groupby(\"user_id\").scrobbles\n",
    "    umin = uscrobs.transform('min').to_numpy()\n",
    "    umax = uscrobs.transform('max').to_numpy()\n",
    "    \n",
    "    badusers2 = scrobsdf.iloc[(umax-umin) == 0].user_id.unique()\n",
    "    scrobsdf = scrobsdf[~scrobsdf.user_id.isin(badusers2)]\n",
    "    \n",
    "    uscrobs = scrobsdf.groupby(\"user_id\").scrobbles\n",
    "    umin = uscrobs.transform('min').to_numpy()\n",
    "    umax = uscrobs.transform('max').to_numpy()\n",
    "    \n",
    "    med = scrobsdf.scrobbles.median()\n",
    "    umed = uscrobs.transform(\"median\").to_numpy()\n",
    "    \n",
    "    adjust = umed/med # describes if user's top 50 shouold be highly rated, high -> overall high scores, low -> overall average scores\n",
    "    spread = umax/umed # describes the desired spread of a user's scores, high -> big top low bottom score, low -> close together\n",
    "    \n",
    "    scrobsdf[\"norm\"] = (scrobsdf.scrobbles)/(umax+umean)\n",
    "    scrobsdf[\"rating\"] = np.log(scrobsdf.norm+0.03)\n",
    "    \n",
    "    scrobsdf[\"norm1\"] = ((scrobsdf.scrobbles)/(umax+umean) + ((adjust - adjust.min())/(adjust.max()-adjust.min())))\n",
    "    scrobsdf[\"rating1\"] = np.log(scrobsdf.norm1+0.03)\n",
    "    \n",
    "    scrobsdf.rating += abs(min(scrobsdf.rating))\n",
    "    scrobsdf.rating1 += abs(min(scrobsdf.rating1))\n",
    "    \n",
    "    scrobsdf.rating = (scrobsdf.rating - scrobsdf.rating.min())/(scrobsdf.rating.max() - scrobsdf.rating.min()) * 10\n",
    "    scrobsdf.rating1 = (scrobsdf.rating1 - scrobsdf.rating1.min())/(scrobsdf.rating1.max() - scrobsdf.rating1.min()) * 10\n",
    "    return scrobsdf"
   ]
  },
  {
   "cell_type": "code",
   "execution_count": 6,
   "id": "d7e50d6f-3adb-4b6f-bf81-81a92e1d1130",
   "metadata": {
    "tags": []
   },
   "outputs": [],
   "source": [
    "def top_n_artists(scrobsM, userid, n, k=15, new = False):\n",
    "    userdata = scrobsM[userid].A[0]\n",
    "    wscrobsM = scrobsM.copy()    \n",
    "    mask = userdata == 0 \n",
    "    wscrobsM[userid] = np.zeros(wscrobsM.shape[1])\n",
    "    wscrobsM = wscrobsM.tocsr()\n",
    "    sims = np.nan_to_num(np.asarray([stats.pearsonr(userdata, wscrobsM[i].A[0]) for i in range(wscrobsM.shape[0])])[:,0])\n",
    "    knearestI = sims.argsort()[::-1][:k]\n",
    "    knearest = wscrobsM[knearestI]\n",
    "    \n",
    "    k = 1/np.abs(sims[knearestI]).sum()\n",
    "    simMults = np.repeat(sims[knearestI], knearest.getnnz(axis=1))\n",
    "    knearest.data = knearest.data * simMults\n",
    "    output = knearest.sum(axis=0).A[0]\n",
    "    output *= k\n",
    "    if new:\n",
    "        output[~mask] = 0\n",
    "    return output.argsort()[::-1][:n]"
   ]
  },
  {
   "cell_type": "code",
   "execution_count": null,
   "id": "b46e1541-10f6-4b0e-984c-cc9b3d0315e2",
   "metadata": {},
   "outputs": [],
   "source": []
  },
  {
   "cell_type": "code",
   "execution_count": 7,
   "id": "04bb3a02-4eb8-4283-adc1-74e941bf2218",
   "metadata": {},
   "outputs": [
    {
     "ename": "NameError",
     "evalue": "name 'scrobsdf' is not defined",
     "output_type": "error",
     "traceback": [
      "\u001b[0;31m---------------------------------------------------------------------------\u001b[0m",
      "\u001b[0;31mNameError\u001b[0m                                 Traceback (most recent call last)",
      "\u001b[0;32m/var/folders/hw/yffqy09n2dx87f_f1pvgn6840000gn/T/ipykernel_1666/2983822169.py\u001b[0m in \u001b[0;36m<module>\u001b[0;34m\u001b[0m\n\u001b[0;32m----> 1\u001b[0;31m \u001b[0mscrobsM\u001b[0m \u001b[0;34m=\u001b[0m \u001b[0msparse\u001b[0m\u001b[0;34m.\u001b[0m\u001b[0mlil_matrix\u001b[0m\u001b[0;34m(\u001b[0m\u001b[0;34m(\u001b[0m\u001b[0mmax\u001b[0m\u001b[0;34m(\u001b[0m\u001b[0mscrobsdf\u001b[0m\u001b[0;34m[\u001b[0m\u001b[0;34m\"user_id\"\u001b[0m\u001b[0;34m]\u001b[0m\u001b[0;34m)\u001b[0m\u001b[0;34m+\u001b[0m\u001b[0;36m1\u001b[0m\u001b[0;34m,\u001b[0m \u001b[0mmax\u001b[0m\u001b[0;34m(\u001b[0m\u001b[0mscrobsdf\u001b[0m\u001b[0;34m[\u001b[0m\u001b[0;34m\"artist_id\"\u001b[0m\u001b[0;34m]\u001b[0m\u001b[0;34m)\u001b[0m\u001b[0;34m+\u001b[0m\u001b[0;36m1\u001b[0m\u001b[0;34m)\u001b[0m\u001b[0;34m)\u001b[0m \u001b[0;31m# 0 indexing\u001b[0m\u001b[0;34m\u001b[0m\u001b[0;34m\u001b[0m\u001b[0m\n\u001b[0m\u001b[1;32m      2\u001b[0m \u001b[0mscrobsM\u001b[0m\u001b[0;34m[\u001b[0m\u001b[0mscrobsdf\u001b[0m\u001b[0;34m[\u001b[0m\u001b[0;34m\"user_id\"\u001b[0m\u001b[0;34m]\u001b[0m\u001b[0;34m,\u001b[0m \u001b[0mscrobsdf\u001b[0m\u001b[0;34m[\u001b[0m\u001b[0;34m\"artist_id\"\u001b[0m\u001b[0;34m]\u001b[0m\u001b[0;34m]\u001b[0m \u001b[0;34m=\u001b[0m \u001b[0mscrobsdf\u001b[0m\u001b[0;34m[\u001b[0m\u001b[0;34m\"rating\"\u001b[0m\u001b[0;34m]\u001b[0m\u001b[0;34m\u001b[0m\u001b[0;34m\u001b[0m\u001b[0m\n\u001b[1;32m      3\u001b[0m \u001b[0;31m# scrobsM = scrobsM.tocsr()\u001b[0m\u001b[0;34m\u001b[0m\u001b[0;34m\u001b[0m\u001b[0m\n",
      "\u001b[0;31mNameError\u001b[0m: name 'scrobsdf' is not defined"
     ]
    }
   ],
   "source": [
    "scrobsM = sparse.lil_matrix((max(scrobsdf[\"user_id\"])+1, max(scrobsdf[\"artist_id\"])+1)) # 0 indexing\n",
    "scrobsM[scrobsdf[\"user_id\"], scrobsdf[\"artist_id\"]] = scrobsdf[\"rating\"]\n",
    "# scrobsM = scrobsM.tocsr()"
   ]
  },
  {
   "cell_type": "code",
   "execution_count": null,
   "id": "0b4237ae-1008-4afb-96b7-5c16d8d971c3",
   "metadata": {},
   "outputs": [],
   "source": [
    "stats.pearsonr(scrobsM[1].A[0], scrobsM[1].A[0])"
   ]
  },
  {
   "cell_type": "code",
   "execution_count": null,
   "id": "545fff1f-98f2-4549-a6d5-741f2d72288a",
   "metadata": {},
   "outputs": [],
   "source": [
    "sims = [stats.pearsonr(scrobsM[1].A[0], scrobsM[i].A[0]) for i in range(1,scrobsM.shape[0])]"
   ]
  },
  {
   "cell_type": "markdown",
   "id": "a35ae03e-3769-4cf9-b253-96bcabf6772b",
   "metadata": {},
   "source": [
    "# Determining ratings from number of listens"
   ]
  },
  {
   "cell_type": "markdown",
   "id": "4f4bd500-27ed-4d46-baad-f75a95313d55",
   "metadata": {},
   "source": [
    "https://towardsdatascience.com/what-is-group-normalization-45fe27307be7"
   ]
  },
  {
   "cell_type": "code",
   "execution_count": null,
   "id": "4f5be035-ff88-4e86-bc0e-6cfdfd4b728b",
   "metadata": {
    "tags": []
   },
   "outputs": [],
   "source": [
    "### Original data\n",
    "This data is extremely left skewed, look at the 75% compared to the max"
   ]
  },
  {
   "cell_type": "code",
   "execution_count": null,
   "id": "debf0bc1-84e9-4076-b392-1695c982f54c",
   "metadata": {
    "tags": []
   },
   "outputs": [],
   "source": [
    "scrobsdf = pd.read_csv(\"./udata/top_artists_smaller.csv\")\n",
    "scrobsdf.columns = [\"user_id\", \"artist_id\", \"scrobbles\"]\n",
    "\n",
    "scrobsdf.scrobbles.describe()"
   ]
  },
  {
   "cell_type": "markdown",
   "id": "cf2a9026-f640-4c54-adec-690faea0c39d",
   "metadata": {},
   "source": [
    "Reading into a sparse matrix"
   ]
  },
  {
   "cell_type": "markdown",
   "id": "18bfae0f-a6f9-41dd-af2b-7baf0236738b",
   "metadata": {},
   "source": [
    "### Comparing users\n",
    "\n",
    "Here we can see that the listening habits of distinct users are on wildly different scales"
   ]
  },
  {
   "cell_type": "code",
   "execution_count": null,
   "id": "cfbd5289-5362-459e-aa25-1e589fab53c2",
   "metadata": {},
   "outputs": [],
   "source": [
    "scrobsM = sparse.lil_matrix((max(scrobsdf[\"user_id\"])+1, max(scrobsdf[\"artist_id\"])+1)) # 0 indexing\n",
    "scrobsM[scrobsdf[\"user_id\"], scrobsdf[\"artist_id\"]] = scrobsdf[\"scrobbles\"]\n",
    "scrobsM = scrobsM.tocsr()"
   ]
  },
  {
   "cell_type": "code",
   "execution_count": null,
   "id": "f1821596-4a69-4239-bd68-7099f2ed4942",
   "metadata": {
    "tags": []
   },
   "outputs": [],
   "source": [
    "fig = plt.figure()\n",
    "fig.subplots_adjust(hspace=0.5, wspace=0.3)\n",
    "ax = fig.add_subplot(2,2,1)\n",
    "ax.set_xlabel(\"scrobbles\")\n",
    "sns.histplot(scrobsM[1].data,ax=ax)\n",
    "for i in range(2,5):\n",
    "    ax = fig.add_subplot(2, 2, i)\n",
    "    ax.set_xlabel(\"scrobbles\")\n",
    "    sns.histplot(scrobsM[i+11].data, ax=ax)\n",
    "\n",
    "plt.show()"
   ]
  },
  {
   "cell_type": "markdown",
   "id": "e511895b-245a-433f-b8c2-860c74de18d0",
   "metadata": {
    "tags": []
   },
   "source": [
    "### User Normalization\n",
    "\n",
    "To make users comparable, we can normalize by each user's maximum and mean"
   ]
  },
  {
   "cell_type": "markdown",
   "id": "cfd8f74a-b420-4c2a-8aa9-4915e1577487",
   "metadata": {
    "tags": []
   },
   "source": [
    "While we're at it, lets drop any users who could not rank their preferences (those with only 1 artist listened to, only 1 listen per artist)"
   ]
  },
  {
   "cell_type": "code",
   "execution_count": null,
   "id": "bf99ebf5-b760-4b2a-8653-a900045e7511",
   "metadata": {
    "tags": []
   },
   "outputs": [],
   "source": [
    "uscrobs = scrobsdf.groupby(\"user_id\").scrobbles\n",
    "umin = uscrobs.transform('min').to_numpy()\n",
    "umax = uscrobs.transform('max').to_numpy()\n",
    "\n",
    "badusers2 = scrobsdf.iloc[(umax-umin) == 0].user_id.unique()\n",
    "scrobsdf = scrobsdf[~scrobsdf.user_id.isin(badusers2)]\n",
    "\n",
    "uscrobs = scrobsdf.groupby(\"user_id\").scrobbles\n",
    "umin = uscrobs.transform('min').to_numpy()\n",
    "umax = uscrobs.transform('max').to_numpy()"
   ]
  },
  {
   "cell_type": "code",
   "execution_count": null,
   "id": "476061c9-c48a-468c-9f51-28748decaf97",
   "metadata": {
    "tags": []
   },
   "outputs": [],
   "source": [
    "umax = uscrobs.transform('max').to_numpy()\n",
    "umean = uscrobs.transform('mean').to_numpy()\n",
    "\n",
    "scrobsdf[\"norm\"] = (scrobsdf.scrobbles)/(umax+umean)"
   ]
  },
  {
   "cell_type": "code",
   "execution_count": null,
   "id": "b1d20428-a6e3-431c-b836-89ec8ee0df48",
   "metadata": {
    "tags": []
   },
   "outputs": [],
   "source": [
    "scrobsM = sparse.lil_matrix((max(scrobsdf[\"user_id\"])+1, max(scrobsdf[\"artist_id\"])+1)) # 0 indexing\n",
    "scrobsM[scrobsdf[\"user_id\"], scrobsdf[\"artist_id\"]] = scrobsdf[\"norm\"]\n",
    "scrobsM = scrobsM.tocsr()\n",
    "\n",
    "fig = plt.figure()\n",
    "fig.subplots_adjust(hspace=0.5, wspace=0.3)\n",
    "ax = fig.add_subplot(2,2,1)\n",
    "ax.set_xlabel(\"scrobbles\")\n",
    "sns.histplot(scrobsM[1].data,ax=ax)\n",
    "for i in range(2,5):\n",
    "    ax = fig.add_subplot(2, 2, i)\n",
    "    ax.set_xlabel(\"scrobbles\")\n",
    "    sns.histplot(scrobsM[i+11].data, ax=ax)\n",
    "\n",
    "plt.show()"
   ]
  },
  {
   "cell_type": "code",
   "execution_count": null,
   "id": "8953c0c9-902e-4f90-bb14-b5236b4b288a",
   "metadata": {},
   "outputs": [],
   "source": [
    "scrobsdf.norm.describe()"
   ]
  },
  {
   "cell_type": "code",
   "execution_count": null,
   "id": "f3197d7e-6610-4a3a-9377-0fc32042740d",
   "metadata": {},
   "outputs": [],
   "source": [
    "sns.displot(scrobsdf[\"norm\"])"
   ]
  },
  {
   "cell_type": "markdown",
   "id": "d8fbcc4b-652c-4923-8890-02198453d232",
   "metadata": {},
   "source": [
    "### Converting to ratings\n",
    "\n",
    "This is great, now our users are comparable and the overall shape of the dataset seems to have been preserved, but these aren't representative scores. As this data only contains the top 50 artists of the user, each artist should receive a decently high rating. We can shift everything over with a log transformation with a chosen epsilon"
   ]
  },
  {
   "cell_type": "code",
   "execution_count": null,
   "id": "22161422-00be-4631-97ce-ba3ccbcb3260",
   "metadata": {},
   "outputs": [],
   "source": [
    "ratgraphs(scrobsdf, \"norm\")"
   ]
  },
  {
   "cell_type": "markdown",
   "id": "70ca1287-68c8-49ee-8a03-b6bf7d2e3d7b",
   "metadata": {
    "tags": []
   },
   "source": [
    "We aren't looking for a normal distribution, as our data is cut off artifically at 50 artists, so we should find what looks like the right half of a normal distribution (minus that lip on the right representing favorite artists). This is where a judgement call must be made, as it's hard to say if 50 artists is enough to encapsulate scores below your most common. It is also hard to say if your 50th ranked artist should receive a rather good or a rather bad score. If your data was collected over a few years, 50 artists could receive pretty high scores, whereas if you have only been collecting data for a year or less, only the top of your top 50 should have good scores. This is where we can incorporate a weight based on the total number of listens a user has."
   ]
  },
  {
   "cell_type": "code",
   "execution_count": null,
   "id": "7873bd2d-df16-490d-8bc1-4494b4470bc7",
   "metadata": {},
   "outputs": [],
   "source": [
    "scrobsdf[\"rating\"] = np.log(scrobsdf.norm+0.006)\n",
    "scrobsdf.rating += abs(min(scrobsdf.rating))"
   ]
  },
  {
   "cell_type": "code",
   "execution_count": null,
   "id": "8e7876e7-f97b-4366-8e90-6fd6aa924d13",
   "metadata": {},
   "outputs": [],
   "source": [
    "ugraphs(scrobsdf, \"rating\")"
   ]
  },
  {
   "cell_type": "code",
   "execution_count": null,
   "id": "ffeb41bb-3167-4b03-863c-37c291986a79",
   "metadata": {
    "tags": []
   },
   "outputs": [],
   "source": [
    "scrobsdf = recalc_ratings()"
   ]
  },
  {
   "cell_type": "code",
   "execution_count": null,
   "id": "0c1b9b69-40a6-49d5-9d60-038ce87058e4",
   "metadata": {},
   "outputs": [],
   "source": [
    "artgraphs(scrobsdf)"
   ]
  },
  {
   "cell_type": "code",
   "execution_count": null,
   "id": "67487874-c401-45bf-aeae-d297fbdca239",
   "metadata": {
    "tags": []
   },
   "outputs": [],
   "source": [
    "scrobsdf[scrobsdf.user_id == 12][[\"scrobbles\", \"rating\", \"rating1\", \"artist_name\"]]"
   ]
  },
  {
   "cell_type": "code",
   "execution_count": null,
   "id": "a2aeb804-4718-40c2-8bf8-9b6a20e3ac5b",
   "metadata": {},
   "outputs": [],
   "source": []
  },
  {
   "cell_type": "code",
   "execution_count": null,
   "id": "de4444c6-6ee0-4cae-9e0f-027f97c0bc77",
   "metadata": {},
   "outputs": [],
   "source": [
    "ratgraphs(scrobsdf, \"norm\")"
   ]
  },
  {
   "cell_type": "code",
   "execution_count": null,
   "id": "11942ff4-273e-4694-9069-fb869fd8fdfb",
   "metadata": {},
   "outputs": [],
   "source": [
    "ratgraphs(scrobsdf, \"norm1\")"
   ]
  },
  {
   "cell_type": "code",
   "execution_count": null,
   "id": "4d8306db-77ff-4e89-8024-e0f54bb967db",
   "metadata": {},
   "outputs": [],
   "source": [
    "# toy = np.array([i for i in range(20)])\n",
    "# toy\n",
    "umed = uscrobs.transform('median').to_numpy()\n",
    "\n",
    "scrobsdf = recalc_ratings()\n",
    "\n",
    "us = scrobsdf.groupby(\"user_id\")\n",
    "med = scrobsdf.scrobbles.median()\n",
    "adjust = (us.scrobbles.median()/med) # describes if user's top 50 shouold be highly rated, high -> overall high scores, low -> overall average scores\n",
    "spread = us.scrobbles.max()/us.scrobbles.median() # describes the desired spread of a user's scores, high -> big top low bottom score, low -> close together"
   ]
  },
  {
   "cell_type": "code",
   "execution_count": null,
   "id": "c3d7f328-3286-4b6b-8bb9-2ebbc23e55fb",
   "metadata": {},
   "outputs": [],
   "source": [
    "usc = scrobsdf[scrobsdf.user_id == 33].scrobbles\n",
    "usc.median()/med\n",
    "scrobsdf[scrobsdf.user_id == 2]"
   ]
  },
  {
   "cell_type": "code",
   "execution_count": null,
   "id": "0c5f68f7-c168-4a16-8902-357bea3bf603",
   "metadata": {},
   "outputs": [],
   "source": [
    "# scrobsdf[\"rating\"] = np.log((scrobsdf.scrobbles - umin) / (umax - umin))"
   ]
  },
  {
   "cell_type": "code",
   "execution_count": null,
   "id": "3a34de0d-751d-4dcf-bbe5-8d38af0cd985",
   "metadata": {},
   "outputs": [],
   "source": [
    "# scrobsdf[\"rating_sum\"] = np.log(scrobsdf.scrobbles / usum) + 12"
   ]
  },
  {
   "cell_type": "markdown",
   "id": "383caaca-0373-4419-a76f-8d0b64274eff",
   "metadata": {},
   "source": [
    "Drop users who havent' listened to a range of artists"
   ]
  },
  {
   "cell_type": "code",
   "execution_count": null,
   "id": "1e3c47b4-68b3-4726-9471-ac62eea3a0c3",
   "metadata": {},
   "outputs": [],
   "source": [
    "scrobsM = sparse.lil_matrix((max(scrobsdf[\"user_id\"])+1, max(scrobsdf[\"artist_id\"])+1)) # 0 indexing\n",
    "scrobsM[scrobsdf[\"user_id\"], scrobsdf[\"artist_id\"]] = scrobsdf[\"rating\"]\n",
    "scrobsM = scrobsM.tocsr()"
   ]
  },
  {
   "cell_type": "code",
   "execution_count": null,
   "id": "62bdf87e-99b1-4bd7-8136-796237a4de4d",
   "metadata": {},
   "outputs": [],
   "source": [
    "fig = plt.figure()\n",
    "fig.subplots_adjust(hspace=0.5, wspace=0.3)\n",
    "ax = fig.add_subplot(2,2,1)\n",
    "ax.set_xlabel(\"scrobbles norm\")\n",
    "sns.histplot(scrobsM[1].data,ax=ax)\n",
    "for i in range(2,5):\n",
    "    ax = fig.add_subplot(2, 2, i)\n",
    "    ax.set_xlabel(\"scrobbles norm\")\n",
    "    sns.histplot(scrobsM[i+11].data, ax=ax)\n",
    "\n",
    "plt.show()"
   ]
  },
  {
   "cell_type": "code",
   "execution_count": null,
   "id": "f52c1bca-4b6d-437b-b5cb-4175ebe0e6e9",
   "metadata": {},
   "outputs": [],
   "source": [
    "df = pd.read_csv(\"./data/lastfm_user_scrobbles.csv\")\n",
    "artdf = pd.read_csv(\"./data/lastfm_artist_list.csv\")\n",
    "artdf = artdf.set_index(\"artist_id\")\n",
    "artists = artdf.to_numpy().flatten()\n",
    "artists = np.insert(artists,0,'___empty___')\n",
    "df.scrobbles.describe()"
   ]
  },
  {
   "cell_type": "code",
   "execution_count": null,
   "id": "bfe7f195-7e62-48b1-b1be-85af66becf29",
   "metadata": {},
   "outputs": [],
   "source": [
    "data = [[5, 7], [7, 3], [8, 1]]\n",
    "ctys = ['Boston', 'Phoenix', 'New York']\n",
    "df = pd.DataFrame(data, columns=['xcord', 'ycord'], index=ctys)\n",
    "df.values"
   ]
  },
  {
   "cell_type": "code",
   "execution_count": null,
   "id": "0cf5a514-ae2a-463a-9a6d-cc19caad4cc9",
   "metadata": {},
   "outputs": [],
   "source": [
    "def unskew(scrobs): \n",
    "    denom_max = np.repeat(scrobs.max(axis=1).A, scrobs.getnnz(axis=1))\n",
    "    denom_min = np.repeat(scrobs.min(axis=1).A, scrobs.getnnz(axis=1)) # incorrect, gives 0, we want non-zero minimum\n",
    "    return (scrobs.data - denom_min)/(denom_max - denom_min)\n",
    "# scrobs.data = unskew(scrobs)"
   ]
  },
  {
   "cell_type": "code",
   "execution_count": null,
   "id": "997e0de3-36a2-4c3a-bc07-aade16010ed8",
   "metadata": {},
   "outputs": [],
   "source": [
    "scrobsdf = pd.read_csv(\"./data/lastfm_user_scrobbles.csv\")\n",
    "df=scrobsdf\n",
    "# df[\"artist\"] = artdf.loc[df[\"artist_id\"].to_numpy()][\"artist_name\"].to_numpy()\n",
    "# df[\"rating\"] = (df.scrobbles) / df.groupby(\"user_id\").scrobbles.transform('max').to_numpy()\n",
    "scrobmin = df.groupby(\"user_id\").scrobbles.transform('min').to_numpy()\n",
    "scrobmax = df.groupby(\"user_id\").scrobbles.transform('max').to_numpy()\n",
    "scrobsum = df.groupby(\"user_id\").scrobbles.transform('sum').to_numpy()\n",
    "scrobsmean = df.groupby(\"user_id\").scrobbles.transform('mean').to_numpy()\n",
    "\n",
    "df[\"rating\"] = (df.scrobbles) / (scrobmax+scrobsmean)\n",
    "# df[\"rating\"] = df.scrobbles/scrobsum"
   ]
  },
  {
   "cell_type": "code",
   "execution_count": null,
   "id": "f957f081-00e9-428f-a7c7-84c316586d9f",
   "metadata": {},
   "outputs": [],
   "source": [
    "for i in range(10):\n",
    "    print(0.1**i)\n",
    "    eps = 0.1**i\n",
    "    newrating = (np.log(df.rating+eps))# + 12\n",
    "\n",
    "    newrating += abs(newrating.min())\n",
    "\n",
    "    newrating = pd.DataFrame(newrating)\n",
    "    print(newrating.describe())\n",
    "    sns.displot(newrating)\n"
   ]
  },
  {
   "cell_type": "code",
   "execution_count": null,
   "id": "3a90a947-15fe-4659-a803-5d4ae599c84f",
   "metadata": {},
   "outputs": [],
   "source": [
    "scrobs = sparse.lil_matrix((max(scrobsdf[\"user_id\"])+1, max(scrobsdf[\"artist_id\"])+1)) # 0 indexing\n",
    "scrobs[scrobsdf[\"user_id\"], scrobsdf[\"artist_id\"]] = scrobsdf[\"scrobbles\"]\n",
    "scrobs = scrobs.tocsr()\n",
    "top50_scrobbled = artists[(scrobs.sum(axis=0)).A[0].argsort()[::-1]][:50]"
   ]
  },
  {
   "cell_type": "code",
   "execution_count": null,
   "id": "e157cd10-b906-47f6-af12-d51ad82ff28d",
   "metadata": {},
   "outputs": [],
   "source": [
    "ratings = sparse.lil_matrix((max(scrobsdf[\"user_id\"])+1, max(scrobsdf[\"artist_id\"])+1)) # 0 indexing\n",
    "ratings[scrobsdf[\"user_id\"], scrobsdf[\"artist_id\"]] = scrobsdf[\"norm\"]\n",
    "ratings = ratings.tocsr()\n",
    "top50_rated = artists[(ratings.sum(axis=0)).A[0].argsort()[::-1]][:50]"
   ]
  },
  {
   "cell_type": "code",
   "execution_count": null,
   "id": "ee135a0e-75ed-42a3-955b-42e3eb0be091",
   "metadata": {},
   "outputs": [],
   "source": [
    "pd.DataFrame(np.array([top50_rated, top50_scrobbled]).T, columns=[\"rating\", \"#listens\"])"
   ]
  },
  {
   "cell_type": "code",
   "execution_count": null,
   "id": "3543eda8-9ff6-476d-b0bc-9fdbfa5d1153",
   "metadata": {},
   "outputs": [],
   "source": [
    "scrobsdf = pd.read_csv(\"./data/lastfm_user_scrobbles.csv\")\n",
    "scrobs = sparse.lil_matrix((max(scrobsdf[\"user_id\"])+1, max(scrobsdf[\"artist_id\"])+1)) # 0 indexing\n",
    "scrobs[scrobsdf[\"user_id\"], scrobsdf[\"artist_id\"]] = scrobsdf[\"scrobbles\"]\n",
    "scrobs = scrobs.tocsr()\n",
    "# scrobs.sum(axis=1)\n",
    "scrobs.min(axis=1).A"
   ]
  },
  {
   "cell_type": "code",
   "execution_count": null,
   "id": "cef13e47-5bdd-442e-b088-dc3980823188",
   "metadata": {},
   "outputs": [],
   "source": [
    "scrobsdf = pd.read_csv(\"./data/lastfm_user_scrobbles.csv\")\n",
    "scrobs = sparse.lil_matrix((max(scrobsdf[\"user_id\"])+1, max(scrobsdf[\"artist_id\"])+1)) # 0 indexing\n",
    "scrobs[scrobsdf[\"user_id\"], scrobsdf[\"artist_id\"]] = scrobsdf[\"scrobbles\"]\n",
    "scrobs = scrobs.tocsr()\n",
    "\n",
    "def unskew(scrobs):\n",
    "#     denom_max = np.repeat(scrobs.sum(axis=1).A, scrobs.getnnz(axis=1))\n",
    "#     return scrobs.data/denom_max\n",
    "    \n",
    "    denom_max = np.repeat(scrobs.max(axis=1).A, scrobs.getnnz(axis=1))\n",
    "    denom_min = np.repeat(scrobs.min(axis=1).A, scrobs.getnnz(axis=1)) # incorrect, gives 0, we want non-zero minimum\n",
    "    return (scrobs.data - denom_min)/(denom_max - denom_min)\n",
    "\n",
    "scrobs.data = unskew(scrobs)\n",
    "# scrobs.data=np.log(scrobs.data) + 12\n",
    "# print(pd.DataFrame(scrobs.data).describe())\n",
    "# sns.displot((scrobs.data))"
   ]
  },
  {
   "cell_type": "code",
   "execution_count": null,
   "id": "c1bd3695-f99d-4078-820c-9afe074dc6f0",
   "metadata": {},
   "outputs": [],
   "source": [
    "pd.DataFrame(scrobs.data).describe()"
   ]
  },
  {
   "cell_type": "code",
   "execution_count": null,
   "id": "4e5f4ba9-8e84-41d6-9125-9e649b7e1301",
   "metadata": {},
   "outputs": [],
   "source": []
  },
  {
   "cell_type": "code",
   "execution_count": null,
   "id": "aaefb03f-beb7-427c-ac2b-9e37fe5a2699",
   "metadata": {},
   "outputs": [],
   "source": [
    "scrobs.A"
   ]
  },
  {
   "cell_type": "code",
   "execution_count": null,
   "id": "85c002e7-ed49-4133-82da-aaefb5e0baca",
   "metadata": {},
   "outputs": [],
   "source": [
    "for i in range(10):\n",
    "    sns.displot(scrobs[i].data)"
   ]
  },
  {
   "cell_type": "markdown",
   "id": "2191f8d0-0eec-48fc-89df-b58d0ea5f86d",
   "metadata": {},
   "source": [
    "### Data reading"
   ]
  },
  {
   "cell_type": "code",
   "execution_count": null,
   "id": "efd61e86-5673-4dbf-b7ed-3183e7bd4aa0",
   "metadata": {},
   "outputs": [],
   "source": [
    "scrobsdf = pd.read_csv(\"./data/lastfm_user_scrobbles.csv\")"
   ]
  },
  {
   "cell_type": "code",
   "execution_count": null,
   "id": "eba3fa06-55e1-45e0-b1ef-6cb4168cbbf9",
   "metadata": {},
   "outputs": [],
   "source": [
    "df = scrobsdf\n",
    "df.scrobbles.describe()"
   ]
  },
  {
   "cell_type": "code",
   "execution_count": null,
   "id": "48600d60-2a07-4273-89e5-0c7cf6ae8341",
   "metadata": {},
   "outputs": [],
   "source": [
    "def normalize(column):\n",
    "    upper = column.max()\n",
    "    lower = column.min()\n",
    "    y = (column - lower)/(upper-lower)\n",
    "    return y"
   ]
  },
  {
   "cell_type": "code",
   "execution_count": null,
   "id": "8e13a307-09cb-4c87-a251-1b79b0546cef",
   "metadata": {},
   "outputs": [],
   "source": [
    "gmax = df.groupby(\"user_id\").scrobbles.transform('max')\n",
    "gmin = df.groupby(\"user_id\").scrobbles.transform('min')\n",
    "df.scrobbles = (df.scrobbles - gmin)/(gmax-gmin)"
   ]
  },
  {
   "cell_type": "code",
   "execution_count": null,
   "id": "d402fd5e-0b9d-4621-9d1a-4fc0f8935229",
   "metadata": {},
   "outputs": [],
   "source": [
    "normlog = df.scrobbles#normalize(np.log(df.scrobbles))\n",
    "print(normlog.describe())\n",
    "sns.displot(normlog)"
   ]
  },
  {
   "cell_type": "code",
   "execution_count": null,
   "id": "9865df10-8e2e-457c-b92c-537d469488c7",
   "metadata": {},
   "outputs": [],
   "source": [
    "artdf = pd.read_csv(\"./data/lastfm_artist_list.csv\")\n",
    "artdf = artdf.set_index(\"artist_id\")"
   ]
  },
  {
   "cell_type": "code",
   "execution_count": null,
   "id": "50f3ec1e-d962-4b9f-8c12-f6e51017487c",
   "metadata": {},
   "outputs": [],
   "source": [
    "artdf[artdf[\"artist_name\"].str.contains(\"ollier\")]"
   ]
  },
  {
   "cell_type": "markdown",
   "id": "16128485-af06-43ad-94eb-a519338428b3",
   "metadata": {},
   "source": [
    "### Make scipy csr sparse matrix from lil with users as rows and artist as column with # scrobbles as value"
   ]
  },
  {
   "cell_type": "code",
   "execution_count": null,
   "id": "57430d54-a91d-4f7f-bbcf-d6980ef7a0c3",
   "metadata": {
    "tags": []
   },
   "outputs": [],
   "source": [
    "scrobs = sparse.lil_matrix((max(scrobsdf[\"user_id\"])+1, max(scrobsdf[\"artist_id\"])+1)) # 0 indexing\n",
    "scrobs[scrobsdf[\"user_id\"], scrobsdf[\"artist_id\"]] = scrobsdf[\"scrobbles\"]\n",
    "scrobs = scrobs.tocsr()"
   ]
  },
  {
   "cell_type": "markdown",
   "id": "db490853-deb7-4753-ad14-b0c761d21e38",
   "metadata": {},
   "source": [
    "### Change #listens to ratings"
   ]
  },
  {
   "cell_type": "markdown",
   "id": "40d7be09-f2fb-411a-ae1e-1cd38c4b8dca",
   "metadata": {
    "tags": []
   },
   "source": [
    "This is to make collaborative filtering work, rather than values like 100, 90, 80 for the top 3 artists of a user, these would be scores representing how they might rate those artists. \n",
    "\n",
    "1. Divide by max\n",
    "    * result: 1, .9, .8\n",
    "    * ranking of a user's artists\n",
    "    * \n",
    "2. Divide by sum\n",
    "    * result: 0.37, 0.33, 0.29\n",
    "    * proportion of total listens that artist occupies\n",
    "    * users with many artists have lower ratings\n",
    "    * ranking doesn't affect rating, so "
   ]
  },
  {
   "cell_type": "code",
   "execution_count": null,
   "id": "187c0460-5910-41a2-ad26-1ef24924bd7c",
   "metadata": {},
   "outputs": [],
   "source": [
    "pd.DataFrame(unskew(scrobs)).describe()"
   ]
  },
  {
   "cell_type": "code",
   "execution_count": null,
   "id": "971596c6-6612-46ed-8bda-5d9a5bf7d1f8",
   "metadata": {},
   "outputs": [],
   "source": [
    "sns.displot(np.log(scrobs.data))"
   ]
  },
  {
   "cell_type": "code",
   "execution_count": null,
   "id": "f26a8a69-01ef-4b96-9b08-9fd2314e2c97",
   "metadata": {},
   "outputs": [],
   "source": [
    "for i in range(10):\n",
    "    sns.displot(scrobs[i].data)"
   ]
  },
  {
   "cell_type": "markdown",
   "id": "4d93246f-4446-4a39-a1e1-47a1d38bd21b",
   "metadata": {},
   "source": [
    "### ----PLAYGROUND----"
   ]
  },
  {
   "cell_type": "code",
   "execution_count": null,
   "id": "8446c1fe-5566-4815-b8be-76e4630105f1",
   "metadata": {},
   "outputs": [],
   "source": [
    "artdf.loc[stats.mode(scrobs.argmax(axis=1).A.T[0]).mode[0]]"
   ]
  },
  {
   "cell_type": "code",
   "execution_count": null,
   "id": "2b392cc2-6e7b-4347-8d8f-5e777f0295da",
   "metadata": {},
   "outputs": [],
   "source": [
    "# edges=[[1,2],[3,4],[1,5],[5,3]]\n",
    "toy = np.array([[1,1,2,3,3], [2,3,1,1,2]])\n",
    "toydata = np.array([100,10,200,300,30])\n",
    "lil = sparse.lil_matrix((3,3))\n",
    "lil[toy[0,:]-1,toy[1,:]-1] = toydata\n",
    "csr = lil.tocsr()\n",
    "csr.getnnz(axis=1)\n",
    "csr.max(axis=1).A\n",
    "denom = np.repeat(csr.max(axis=1).A,csr.getnnz(axis=1))\n",
    "csr.data = csr.data/denom\n",
    "len(csr.data)"
   ]
  },
  {
   "cell_type": "code",
   "execution_count": null,
   "id": "e1f564a2-681e-408e-88bd-91fbb7a5d474",
   "metadata": {},
   "outputs": [],
   "source": [
    "csr.data[csr.data < 1] = 0\n",
    "len(csr.data)\n",
    "csr.eliminate_zeros()\n",
    "csr.data"
   ]
  },
  {
   "cell_type": "code",
   "execution_count": null,
   "id": "ba8674e1-4cd1-4557-a13c-13ef5c882a90",
   "metadata": {},
   "outputs": [],
   "source": []
  }
 ],
 "metadata": {
  "kernelspec": {
   "display_name": "Python 3 (ipykernel)",
   "language": "python",
   "name": "python3"
  },
  "language_info": {
   "codemirror_mode": {
    "name": "ipython",
    "version": 3
   },
   "file_extension": ".py",
   "mimetype": "text/x-python",
   "name": "python",
   "nbconvert_exporter": "python",
   "pygments_lexer": "ipython3",
   "version": "3.9.7"
  }
 },
 "nbformat": 4,
 "nbformat_minor": 5
}

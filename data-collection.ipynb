{
 "cells": [
  {
   "cell_type": "code",
   "execution_count": 1,
   "id": "c7244f3e-d8e4-4593-a0fd-d24ff2f6dcf4",
   "metadata": {},
   "outputs": [],
   "source": [
    "import requests\n",
    "import numpy as np\n",
    "import re\n",
    "import json\n",
    "import time\n",
    "import pandas as pd\n",
    "from collections import deque\n",
    "from bs4 import BeautifulSoup"
   ]
  },
  {
   "cell_type": "markdown",
   "id": "f75e5f53-7412-4aa9-b766-8272fd711074",
   "metadata": {},
   "source": [
    "# Data Collection and Cleaning from last.fm\n",
    "For a music recommendation final project in Dr. Bodwin's DATA 301 course Winter 2022"
   ]
  },
  {
   "cell_type": "markdown",
   "id": "0b813987-d8be-4e7e-8825-cae5b92c6392",
   "metadata": {},
   "source": [
    "## Method for Username Collection\n",
    "\n",
    "I decided to implement neighborhood search first, as it was the simplest and created grounds for later methods. However, it is inherently limited by how many users I can use as \"seeds.\" Initially, I simply used my username (aidan.bbq) and gathered my top 50 neighbors, then their top 50 neighbors, etc. \n",
    "\n",
    "However, to diversify the data, I then later add in usernames collected from the top artists of all time, and random artists collected along the way (top artists of usernames already collected). In the end, after an adequate amount of neighbor and artist searches, recursively adding and exploring new artists/usernames, I converged to a point where no new artists or users were being added (or perhaps 3 users for every 500 explored were added). Here, I considered the diversity of the dataset enough and ended the scraping there. \n",
    "\n",
    "For future analysis, randomly sampling the usernames should produce (smaller) but more representative data. Additionally, it would be interesting to see if this community which I converged to represents any sub community of the last.fm user database."
   ]
  },
  {
   "cell_type": "markdown",
   "id": "5ea85c1a-fac8-4c1d-b10a-fda6c3dcea7e",
   "metadata": {},
   "source": [
    "## API Logistics and Helper Functions\n",
    "\n",
    "To gather username information from last.fm you must be logged in under a proper user account. As such, I provide my personal email and password to allow the web scraper to login and collect usernames. As this is sensitive information, it is contained locally in a \"secrets\" file"
   ]
  },
  {
   "cell_type": "code",
   "execution_count": 8,
   "id": "c299cb82-bb35-4e52-8623-3ed86c150b3a",
   "metadata": {},
   "outputs": [],
   "source": [
    "f=open(\"secrets.json\")\n",
    "s = json.load(f)\n",
    "f.close()"
   ]
  },
  {
   "cell_type": "markdown",
   "id": "6de50f78-5f5d-426b-9fc7-e39f8d4338f7",
   "metadata": {},
   "source": [
    "#### Other constants"
   ]
  },
  {
   "cell_type": "code",
   "execution_count": 9,
   "id": "493f5e59-4524-4d0f-aacf-c10b5fe1349d",
   "metadata": {},
   "outputs": [],
   "source": [
    "API_URL = 'https://ws.audioscrobbler.com/2.0/'"
   ]
  },
  {
   "cell_type": "markdown",
   "id": "a8b8123f-659e-4db8-9743-f3925a59afbb",
   "metadata": {},
   "source": [
    "### Helper Functions for Common API Calls"
   ]
  },
  {
   "cell_type": "code",
   "execution_count": 33,
   "id": "cc1c309d-3b5d-4f1c-828d-126bfaef47dc",
   "metadata": {},
   "outputs": [],
   "source": [
    "def getLastFm(payload):\n",
    "    # Sets up and gets information from the lastfm API\n",
    "    \n",
    "    # Announces username to API\n",
    "    headers = {'user-agent': s[\"USER_AGENT\"]}\n",
    "\n",
    "    # Add API key and format to the payload\n",
    "    payload['api_key'] = s[\"API_KEY\"]\n",
    "    payload['format'] = 'json'\n",
    "\n",
    "    response = requests.get(API_URL, headers=headers, params=payload)\n",
    "    return response"
   ]
  },
  {
   "cell_type": "code",
   "execution_count": 11,
   "id": "52d7f947-be08-4984-a6d3-7c5163f1d1d0",
   "metadata": {},
   "outputs": [],
   "source": [
    "def getTopArtists(n=50):\n",
    "    # Wrapper for lastfm API request for top artists of CHARTS (not user)\n",
    "    \n",
    "    payload = {\n",
    "        \"method\": \"chart.gettopartists\",\n",
    "        \"limit\": n\n",
    "    }\n",
    "    r = getLastFm(payload)\n",
    "    artists = r.json()['artists'][\"artist\"]\n",
    "    return [a['name'] for a in artists]"
   ]
  },
  {
   "cell_type": "code",
   "execution_count": 13,
   "id": "81e591e6-3c75-4ce4-9ed6-a80ff45185a8",
   "metadata": {},
   "outputs": [],
   "source": [
    "def getUserInfo(user):\n",
    "    # Gets selected information about a user\n",
    "    \n",
    "    payload = {\n",
    "        \"method\": \"user.getinfo\",\n",
    "        \"user\": user\n",
    "    }\n",
    "    r = getLastFm(payload)\n",
    "    j = r.json()[\"user\"]\n",
    "    return [j[\"name\"], j[\"country\"], j[\"playcount\"], j[\"registered\"][\"unixtime\"], j[\"gender\"]]"
   ]
  },
  {
   "cell_type": "code",
   "execution_count": 14,
   "id": "ae1c201b-ea46-48d8-84f3-70126e1571ce",
   "metadata": {},
   "outputs": [],
   "source": [
    "def getTopArtists_user(user, client, file, userid, artistids, periods=[\"overall\"], n=50):\n",
    "    # Gets the top $n artists of $user(id) for every time period in $periods using $client \n",
    "    # and writing to $file, compressing each artist name to index in #artistids\n",
    "    \n",
    "    # periods = [\"overall\", \"1month\", \"12month\"]\n",
    "    output=[]\n",
    "    for p in periods:\n",
    "        payload = {\n",
    "            \"method\": \"user.gettopartists\",\n",
    "            \"user\": user,\n",
    "            \"period\": p,\n",
    "            \"limit\": n\n",
    "        }\n",
    "        r = getLastFm(payload)\n",
    "        j = r.json()\n",
    "        if \"topartists\" in j and \"artist\" in j[\"topartists\"]:\n",
    "            artists = r.json()['topartists'][\"artist\"]\n",
    "            for a in artists:\n",
    "                if a['name'] not in artistids:\n",
    "                    artistids.append(a['name'])\n",
    "                    f.write(f\"{userid},{len(artistids)-1},{int(a['playcount'])}\\n\")\n",
    "                else:\n",
    "                    f.write(f\"{userid},{list(artistids).index(a['name'])},{int(a['playcount'])}\\n\")"
   ]
  },
  {
   "cell_type": "markdown",
   "id": "fe00b94b-f767-4e84-8700-61483afc831c",
   "metadata": {},
   "source": [
    "### Helper Functions for Web Scraping\n",
    "\n",
    "Opening a client, cleaning web data, etc. "
   ]
  },
  {
   "cell_type": "code",
   "execution_count": 16,
   "id": "71b74b35-2cbb-4d14-8bbc-9eefbffb27e0",
   "metadata": {},
   "outputs": [],
   "source": [
    "def openLastfmClient(user_, password_):\n",
    "    # Opens a session with the last.fm website to allow for \n",
    "    # username collect (login protected)\n",
    "    \n",
    "    payload = payload = {\n",
    "        \"username_or_email\": user_,\n",
    "        \"password\": password_\n",
    "    }\n",
    "    loginurl = \"https://www.last.fm/login\"\n",
    "    \n",
    "    client = requests.Session()\n",
    "    client.get(loginurl)\n",
    "    \n",
    "    if 'csrftoken' in client.cookies:\n",
    "        # Django 1.6 and up\n",
    "        csrftoken = client.cookies['csrftoken']\n",
    "    else:\n",
    "        # older versions\n",
    "        csrftoken = client.cookies['csrf']\n",
    "    payload[\"csrfmiddlewaretoken\"] = csrftoken\n",
    "    client.headers.update({'referer': loginurl})\n",
    "    client.post(loginurl, data=payload)\n",
    "    return client"
   ]
  },
  {
   "cell_type": "code",
   "execution_count": 17,
   "id": "9a1f73a0-9e8e-418a-8e70-fa236e0c9e8a",
   "metadata": {},
   "outputs": [],
   "source": [
    "def getListeners_artist(artist, client, pages=[1,2,3]):\n",
    "    # Gets a list of the first 3 pages of top listener usernames of the artist\n",
    "    \n",
    "    users = []\n",
    "    for p in pages:\n",
    "        url = f\"https://www.last.fm/music/{artist}/+listeners?page={p}\"\n",
    "        resp = client.get(url)\n",
    "        if resp.status_code == 200:\n",
    "            soup = BeautifulSoup(resp.text, 'html.parser')\n",
    "            us = soup.findAll(\"h3\", {\"class\": \"top-listeners-item-name\"})\n",
    "            users += [u.find(\"a\").text for u in us]\n",
    "    return users"
   ]
  },
  {
   "cell_type": "markdown",
   "id": "876a31f8-87de-43b4-a713-4f4053aec45f",
   "metadata": {},
   "source": [
    "# Scraping the last.fm API and website for usernames via top artists"
   ]
  },
  {
   "cell_type": "code",
   "execution_count": 32,
   "id": "2b23dc0e-6451-4e71-a476-45b61a4043d6",
   "metadata": {},
   "outputs": [
    {
     "ename": "AttributeError",
     "evalue": "'dict' object has no attribute 'USER_AGENT'",
     "output_type": "error",
     "traceback": [
      "\u001b[0;31m---------------------------------------------------------------------------\u001b[0m",
      "\u001b[0;31mAttributeError\u001b[0m                            Traceback (most recent call last)",
      "\u001b[0;32m/var/folders/hw/yffqy09n2dx87f_f1pvgn6840000gn/T/ipykernel_1859/229194455.py\u001b[0m in \u001b[0;36m<module>\u001b[0;34m\u001b[0m\n\u001b[1;32m      1\u001b[0m \u001b[0mclient\u001b[0m \u001b[0;34m=\u001b[0m \u001b[0mopenLastfmClient\u001b[0m\u001b[0;34m(\u001b[0m\u001b[0ms\u001b[0m\u001b[0;34m[\u001b[0m\u001b[0;34m\"USER_AGENT\"\u001b[0m\u001b[0;34m]\u001b[0m\u001b[0;34m,\u001b[0m\u001b[0ms\u001b[0m\u001b[0;34m[\u001b[0m\u001b[0;34m\"PASSWORD\"\u001b[0m\u001b[0;34m]\u001b[0m\u001b[0;34m)\u001b[0m\u001b[0;34m\u001b[0m\u001b[0;34m\u001b[0m\u001b[0m\n\u001b[0;32m----> 2\u001b[0;31m \u001b[0martists\u001b[0m  \u001b[0;34m=\u001b[0m \u001b[0mgetTopArtists\u001b[0m\u001b[0;34m(\u001b[0m\u001b[0mn\u001b[0m\u001b[0;34m=\u001b[0m\u001b[0;36m1000\u001b[0m\u001b[0;34m)\u001b[0m\u001b[0;34m\u001b[0m\u001b[0;34m\u001b[0m\u001b[0m\n\u001b[0m\u001b[1;32m      3\u001b[0m \u001b[0mmy_artists\u001b[0m \u001b[0;34m=\u001b[0m \u001b[0mnp\u001b[0m\u001b[0;34m.\u001b[0m\u001b[0marray\u001b[0m\u001b[0;34m(\u001b[0m\u001b[0mgetTopArtists_user\u001b[0m\u001b[0;34m(\u001b[0m\u001b[0;34m\"aidan_bbq\"\u001b[0m\u001b[0;34m)\u001b[0m\u001b[0;34m)\u001b[0m\u001b[0;34m\u001b[0m\u001b[0;34m\u001b[0m\u001b[0m\n\u001b[1;32m      4\u001b[0m \u001b[0mexplore\u001b[0m \u001b[0;34m=\u001b[0m \u001b[0mmy_artists\u001b[0m\u001b[0;34m[\u001b[0m\u001b[0;34m~\u001b[0m\u001b[0mnp\u001b[0m\u001b[0;34m.\u001b[0m\u001b[0misin\u001b[0m\u001b[0;34m(\u001b[0m\u001b[0mmy_artists\u001b[0m\u001b[0;34m,\u001b[0m\u001b[0martists\u001b[0m\u001b[0;34m)\u001b[0m\u001b[0;34m]\u001b[0m\u001b[0;34m\u001b[0m\u001b[0;34m\u001b[0m\u001b[0m\n\u001b[1;32m      5\u001b[0m \u001b[0;34m\u001b[0m\u001b[0m\n",
      "\u001b[0;32m/var/folders/hw/yffqy09n2dx87f_f1pvgn6840000gn/T/ipykernel_1859/2486375605.py\u001b[0m in \u001b[0;36mgetTopArtists\u001b[0;34m(n)\u001b[0m\n\u001b[1;32m      6\u001b[0m         \u001b[0;34m\"limit\"\u001b[0m\u001b[0;34m:\u001b[0m \u001b[0mn\u001b[0m\u001b[0;34m\u001b[0m\u001b[0;34m\u001b[0m\u001b[0m\n\u001b[1;32m      7\u001b[0m     }\n\u001b[0;32m----> 8\u001b[0;31m     \u001b[0mr\u001b[0m \u001b[0;34m=\u001b[0m \u001b[0mlastfm_get\u001b[0m\u001b[0;34m(\u001b[0m\u001b[0mpayload\u001b[0m\u001b[0;34m)\u001b[0m\u001b[0;34m\u001b[0m\u001b[0;34m\u001b[0m\u001b[0m\n\u001b[0m\u001b[1;32m      9\u001b[0m     \u001b[0martists\u001b[0m \u001b[0;34m=\u001b[0m \u001b[0mr\u001b[0m\u001b[0;34m.\u001b[0m\u001b[0mjson\u001b[0m\u001b[0;34m(\u001b[0m\u001b[0;34m)\u001b[0m\u001b[0;34m[\u001b[0m\u001b[0;34m'artists'\u001b[0m\u001b[0;34m]\u001b[0m\u001b[0;34m[\u001b[0m\u001b[0;34m\"artist\"\u001b[0m\u001b[0;34m]\u001b[0m\u001b[0;34m\u001b[0m\u001b[0;34m\u001b[0m\u001b[0m\n\u001b[1;32m     10\u001b[0m     \u001b[0;32mreturn\u001b[0m \u001b[0;34m[\u001b[0m\u001b[0ma\u001b[0m\u001b[0;34m[\u001b[0m\u001b[0;34m'name'\u001b[0m\u001b[0;34m]\u001b[0m \u001b[0;32mfor\u001b[0m \u001b[0ma\u001b[0m \u001b[0;32min\u001b[0m \u001b[0martists\u001b[0m\u001b[0;34m]\u001b[0m\u001b[0;34m\u001b[0m\u001b[0;34m\u001b[0m\u001b[0m\n",
      "\u001b[0;32m/var/folders/hw/yffqy09n2dx87f_f1pvgn6840000gn/T/ipykernel_1859/1165194183.py\u001b[0m in \u001b[0;36mlastfm_get\u001b[0;34m(payload)\u001b[0m\n\u001b[1;32m      3\u001b[0m \u001b[0;34m\u001b[0m\u001b[0m\n\u001b[1;32m      4\u001b[0m     \u001b[0;31m# Announces username to API\u001b[0m\u001b[0;34m\u001b[0m\u001b[0;34m\u001b[0m\u001b[0m\n\u001b[0;32m----> 5\u001b[0;31m     \u001b[0mheaders\u001b[0m \u001b[0;34m=\u001b[0m \u001b[0;34m{\u001b[0m\u001b[0;34m'user-agent'\u001b[0m\u001b[0;34m:\u001b[0m \u001b[0ms\u001b[0m\u001b[0;34m.\u001b[0m\u001b[0mUSER_AGENT\u001b[0m\u001b[0;34m}\u001b[0m\u001b[0;34m\u001b[0m\u001b[0;34m\u001b[0m\u001b[0m\n\u001b[0m\u001b[1;32m      6\u001b[0m \u001b[0;34m\u001b[0m\u001b[0m\n\u001b[1;32m      7\u001b[0m     \u001b[0;31m# Add API key and format to the payload\u001b[0m\u001b[0;34m\u001b[0m\u001b[0;34m\u001b[0m\u001b[0m\n",
      "\u001b[0;31mAttributeError\u001b[0m: 'dict' object has no attribute 'USER_AGENT'"
     ]
    }
   ],
   "source": [
    "client = openLastfmClient(s[\"USER_AGENT\"],s[\"PASSWORD\"])    \n",
    "artists  = getTopArtists(n=1000)\n",
    "my_artists = np.array(getTopArtists_user(\"aidan_bbq\"))\n",
    "explore = my_artists[~np.isin(my_artists,artists)]\n",
    "\n",
    "with open(\"./output/toplisteners_me.csv\", \"a\", encoding=\"utf-8\") as f:\n",
    "    for a in explore:\n",
    "        print(f\"on artist: {a}\")\n",
    "        [f.write(f\"{a},{u}\\n\") for u in getListeners(a,client)]"
   ]
  },
  {
   "cell_type": "markdown",
   "id": "2bc2f950-fcf0-40eb-a3ae-c70383d56408",
   "metadata": {},
   "source": [
    "# Scraping last.fm directly for usernames via neighborhood searches\n",
    "\n",
    "This is the first method implemented, described above in the methods section."
   ]
  },
  {
   "cell_type": "code",
   "execution_count": 15,
   "id": "2382d40e-a1fc-4329-9502-8d3fb516a4e2",
   "metadata": {},
   "outputs": [],
   "source": [
    "def getNeighbors(username):\n",
    "    # Given a username, use lastfm's \"neighbours\" page to find new usernames.\n",
    "    # Usernames are inherently clustered by similarity here - which is why \n",
    "    # top artists are used to mix up the dataset\n",
    "    \n",
    "    url = f\"https://www.last.fm/user/{username}/neighbours\"\n",
    "    resp = requests.get(url)    \n",
    "    \n",
    "    if resp.status_code==200:\n",
    "        soup = BeautifulSoup(resp.text, 'html.parser')\n",
    "        us = soup.find(\"section\", {\"class\": \"neighbours-items-section\"})\n",
    "        if us is not None:\n",
    "            us = us.findAll(\"a\", {\"class\": \"user-list-link link-block-target\"})\n",
    "            return np.asarray([u.text for u in us])\n",
    "        \n",
    "    return np.array([])"
   ]
  },
  {
   "cell_type": "code",
   "execution_count": 18,
   "id": "241c9aeb-9179-4f9c-9720-1fc4668b452e",
   "metadata": {},
   "outputs": [
    {
     "data": {
      "text/plain": [
       "array(['Benthorn13', 'IvanMalison', 'eIliottsmithfan', 'jimmyyyhill',\n",
       "       'emilynadeau', 'talia-hayes', 'Samotsupertramp', 'julietsvor',\n",
       "       'alexhemley', 'Ezradepreum', 'keishaemeryy', 'festus08',\n",
       "       'Max_langlinais', 'sarinasabouri', 'itsmeurlitllev1', 'tamsennn',\n",
       "       'driedlilacs', 'sadiemasket', 'shhadam', 'cleo1233',\n",
       "       'arthurbaker999', 'lilyfisher5', 'St0Ing', 'arthurbaker',\n",
       "       'JanaHeylen', 'jaggie_mones', 'HugeSalad', 'sophiepeterson',\n",
       "       'tomsentaylor', 'woodsgwen3', 'Ch3wbaccaw0k', 'michaelspeights',\n",
       "       'Ffeelixx', 'celinehu0402', 'anawinston', 'jannafranco', 'Kosa12',\n",
       "       'turnip1756', 'chrlwhtng', 'cud1995', 'owenheptinstall',\n",
       "       'maxdotorg7', 'eviesteinwright', 'max_wolfson', 'Coomberlane',\n",
       "       'myheartyearns', 'kanaan_', 'stanspruyt', 'Gracismart', 'janeybug'],\n",
       "      dtype='<U15')"
      ]
     },
     "execution_count": 18,
     "metadata": {},
     "output_type": "execute_result"
    }
   ],
   "source": [
    "getNeighbors(\"aidan_bbq\")"
   ]
  },
  {
   "cell_type": "markdown",
   "id": "eef3967c-2688-4741-a281-b3451da245de",
   "metadata": {},
   "source": [
    "### Recursively following neighbors"
   ]
  },
  {
   "cell_type": "code",
   "execution_count": 22,
   "id": "27761e3f-5563-48af-866b-85740fa5a6a6",
   "metadata": {},
   "outputs": [],
   "source": [
    "datafile = \"./output/toplisteners_me.csv\"\n",
    "with open(datafile, 'r', encoding=\"utf-8\") as f:\n",
    "    lines = [[node for node in re.split('[,](?!\\s)',edge.strip('\\n'))[:2]] for edge in f.readlines() if edge[0][0] != '#']\n",
    "    topls = pd.DataFrame(lines, columns = [\"artist\", \"user\"])"
   ]
  },
  {
   "cell_type": "code",
   "execution_count": 23,
   "id": "6ea912fd-a8c0-4fec-8c4e-c933b739021d",
   "metadata": {},
   "outputs": [],
   "source": [
    "userheads = topls.user\n",
    "searchstack = deque(userheads)\n",
    "userset = set(userheads)\n",
    "explored = np.array([]) \n",
    "useredges = None # to make graph of users"
   ]
  },
  {
   "cell_type": "code",
   "execution_count": 25,
   "id": "2021e91e-080d-4bb1-a800-5cd17a926702",
   "metadata": {},
   "outputs": [],
   "source": [
    "edges = None\n",
    "datafile = \"./output/both-neighs.csv\"\n",
    "with open(datafile, 'r') as f:\n",
    "    lines = [[node for node in re.split(',',edge.strip('\\n'))[:2]] for edge in f.readlines() if edge[0][0] != '#']\n",
    "    edges = np.array(lines)"
   ]
  },
  {
   "cell_type": "code",
   "execution_count": 26,
   "id": "5af7e53a-0765-4c0d-8a86-ee40cd0cda4a",
   "metadata": {},
   "outputs": [
    {
     "ename": "IndexError",
     "evalue": "too many indices for array: array is 1-dimensional, but 2 were indexed",
     "output_type": "error",
     "traceback": [
      "\u001b[0;31m---------------------------------------------------------------------------\u001b[0m",
      "\u001b[0;31mIndexError\u001b[0m                                Traceback (most recent call last)",
      "\u001b[0;32m/var/folders/hw/yffqy09n2dx87f_f1pvgn6840000gn/T/ipykernel_1859/1241156306.py\u001b[0m in \u001b[0;36m<module>\u001b[0;34m\u001b[0m\n\u001b[1;32m      1\u001b[0m \u001b[0mtot_userset\u001b[0m \u001b[0;34m=\u001b[0m \u001b[0mset\u001b[0m\u001b[0;34m(\u001b[0m\u001b[0medges\u001b[0m\u001b[0;34m.\u001b[0m\u001b[0mflatten\u001b[0m\u001b[0;34m(\u001b[0m\u001b[0;34m)\u001b[0m\u001b[0;34m)\u001b[0m\u001b[0;34m\u001b[0m\u001b[0;34m\u001b[0m\u001b[0m\n\u001b[0;32m----> 2\u001b[0;31m \u001b[0mtot_explored\u001b[0m \u001b[0;34m=\u001b[0m \u001b[0mnp\u001b[0m\u001b[0;34m.\u001b[0m\u001b[0marray\u001b[0m\u001b[0;34m(\u001b[0m\u001b[0mset\u001b[0m\u001b[0;34m(\u001b[0m\u001b[0medges\u001b[0m\u001b[0;34m[\u001b[0m\u001b[0;34m:\u001b[0m\u001b[0;34m,\u001b[0m\u001b[0;36m0\u001b[0m\u001b[0;34m]\u001b[0m\u001b[0;34m)\u001b[0m\u001b[0;34m)\u001b[0m\u001b[0;34m\u001b[0m\u001b[0;34m\u001b[0m\u001b[0m\n\u001b[0m\u001b[1;32m      3\u001b[0m \u001b[0mexplored\u001b[0m \u001b[0;34m=\u001b[0m \u001b[0mtot_explored\u001b[0m\u001b[0;34m\u001b[0m\u001b[0;34m\u001b[0m\u001b[0m\n",
      "\u001b[0;31mIndexError\u001b[0m: too many indices for array: array is 1-dimensional, but 2 were indexed"
     ]
    }
   ],
   "source": [
    "tot_userset = set(edges.flatten())\n",
    "tot_explored = np.array(set(edges[:,0]))\n",
    "explored = tot_explored"
   ]
  },
  {
   "cell_type": "code",
   "execution_count": 27,
   "id": "8ec2a56a-dc39-49f5-bee5-8dafdb5643e8",
   "metadata": {},
   "outputs": [],
   "source": [
    "newf = open(\"./output/new-neighs.csv\", \"a\", encoding=\"utf-8\")\n",
    "totf = open(\"./output/both-neighs.csv\", \"a\", encoding=\"utf-8\")"
   ]
  },
  {
   "cell_type": "code",
   "execution_count": 28,
   "id": "4d74cf53-33ba-4c9b-a44f-090fbdce5030",
   "metadata": {},
   "outputs": [],
   "source": [
    "numnew10 = deque([11]) # number of new users added in the past 10 iterations\n",
    "while sum(numnew10) > 10  and len(searchstack) > 0:\n",
    "    curruser = searchstack.popleft()\n",
    "    if np.isin(curruser, explored):\n",
    "        continue\n",
    "    explored = np.append(explored, curruser)\n",
    "\n",
    "    neighs = getneighbors(curruser)\n",
    "    prevlen = len(userset)\n",
    "    userset = userset.union(neighs)\n",
    "    \n",
    "    # stoppage conditions\n",
    "    numnew10.append(len(userset) - prevlen)\n",
    "    if len(numnew10) > 10:\n",
    "        numnew10.popleft()\n",
    "        \n",
    "    # keeping track of overall additions\n",
    "    tot_prevlen = len(tot_userset)\n",
    "    tot_userset = tot_userset.union(userset)\n",
    "    print(f\"explored {curruser}, found {numnew10[-1]} new users, {len(tot_userset) - tot_prevlen} totally new, {len(tot_userset)} total\")\n",
    "    \n",
    "\n",
    "    edges = np.asarray([np.repeat(curruser, len(neighs)), neighs]).T\n",
    "    [newf.write(f\"{e[0]},{e[1]}\\n\") for e in edges]\n",
    "    [totf.write(f\"{e[0]},{e[1]}\\n\") for e in edges]\n",
    "    \n",
    "    searchstack.extend(neighs[~np.isin(neighs, explored)]) # get rid of already visited neighs, add rest to searchstack"
   ]
  },
  {
   "cell_type": "code",
   "execution_count": null,
   "id": "34c55513-0b55-4ced-a917-5b8b1ba973c3",
   "metadata": {},
   "outputs": [],
   "source": [
    "totf.close()\n",
    "newf.close()"
   ]
  }
 ],
 "metadata": {
  "kernelspec": {
   "display_name": "Python 3 (ipykernel)",
   "language": "python",
   "name": "python3"
  },
  "language_info": {
   "codemirror_mode": {
    "name": "ipython",
    "version": 3
   },
   "file_extension": ".py",
   "mimetype": "text/x-python",
   "name": "python",
   "nbconvert_exporter": "python",
   "pygments_lexer": "ipython3",
   "version": "3.9.7"
  }
 },
 "nbformat": 4,
 "nbformat_minor": 5
}

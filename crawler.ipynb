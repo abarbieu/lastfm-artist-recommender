{
 "cells": [
  {
   "cell_type": "code",
   "execution_count": 2,
   "id": "85a735f8-8738-425e-b685-c31ca59ad80b",
   "metadata": {},
   "outputs": [],
   "source": [
    "import requests\n",
    "import numpy as np\n",
    "import re\n",
    "import json\n",
    "import time\n",
    "import pandas as pd\n",
    "from collections import deque\n",
    "from bs4 import BeautifulSoup"
   ]
  },
  {
   "cell_type": "code",
   "execution_count": 2,
   "id": "b9029d90-c39e-478c-9e0c-9ffb6353052d",
   "metadata": {},
   "outputs": [],
   "source": [
    "# Application name \tcollaborative-filtering\n",
    "# API key \tb2192064c900b89ae6627a1a9871ec37\n",
    "# Shared secret \t20702a1e39bcac00be717a0b93df1dd5\n",
    "# Registered to \taidan_bbq"
   ]
  },
  {
   "cell_type": "markdown",
   "id": "01978af8-9016-4a0a-9dc5-9bee054aa80f",
   "metadata": {},
   "source": [
    "## Scrape usernames via popular artists"
   ]
  },
  {
   "cell_type": "code",
   "execution_count": 2,
   "id": "6b2bfa2e-5469-4f3e-963e-580cd085cad8",
   "metadata": {},
   "outputs": [],
   "source": [
    "API_KEY=None\n",
    "USER_AGENT=None\n",
    "PASSWORD=None\n",
    "with open(\"./secrets.txt\", \"r\") as s:\n",
    "    lines = s.readlines()\n",
    "    API_KEY = lines[0].strip(\"\\n\")\n",
    "    USER_AGENT = lines[1].strip(\"\\n\")\n",
    "    PASSWORD = lines[2].strip(\"\\n\")"
   ]
  },
  {
   "cell_type": "code",
   "execution_count": 3,
   "id": "0d93ddad-95b9-4a60-800d-a4c76e6e0db5",
   "metadata": {
    "tags": []
   },
   "outputs": [],
   "source": [
    "def lastfm_get(payload):\n",
    "    # define headers and URL\n",
    "    headers = {'user-agent': USER_AGENT}\n",
    "    url = 'https://ws.audioscrobbler.com/2.0/'\n",
    "\n",
    "    # Add API key and format to the payload\n",
    "    payload['api_key'] = API_KEY\n",
    "    payload['format'] = 'json'\n",
    "\n",
    "    response = requests.get(url, headers=headers, params=payload)\n",
    "    return response"
   ]
  },
  {
   "cell_type": "code",
   "execution_count": 4,
   "id": "fc6f9022-3f64-41a9-9dac-7eb38de18e48",
   "metadata": {
    "tags": []
   },
   "outputs": [],
   "source": [
    "def getTopArtists(n=50):\n",
    "    payload = {\n",
    "        \"method\": \"chart.gettopartists\",\n",
    "        \"limit\": n\n",
    "    }\n",
    "    r = lastfm_get(payload)\n",
    "    artists = r.json()['artists'][\"artist\"]\n",
    "    return [a['name'] for a in artists]"
   ]
  },
  {
   "cell_type": "code",
   "execution_count": 5,
   "id": "3873f295-f400-41e4-b041-1f6dadafc378",
   "metadata": {},
   "outputs": [],
   "source": [
    "def getUserInfo(user):\n",
    "    payload = {\n",
    "        \"method\": \"user.getinfo\",\n",
    "        \"user\": user\n",
    "    }\n",
    "    r = lastfm_get(payload)\n",
    "    j = r.json()[\"user\"]\n",
    "    return [j[\"name\"], j[\"country\"], j[\"playcount\"], j[\"registered\"][\"unixtime\"], j[\"gender\"]]"
   ]
  },
  {
   "cell_type": "code",
   "execution_count": 6,
   "id": "3db5a843-2da6-4b43-94fc-9673c17c7c67",
   "metadata": {
    "tags": []
   },
   "outputs": [],
   "source": [
    "def getTopArtists_user(user, client, file, userid, artistids, n=50):\n",
    "    periods = [\"overall\"]#, \"1month\", \"12month\"]\n",
    "    output=[]\n",
    "    for p in periods:\n",
    "        payload = {\n",
    "            \"method\": \"user.gettopartists\",\n",
    "            \"user\": user,\n",
    "            \"period\": p,\n",
    "            \"limit\": n\n",
    "        }\n",
    "        r = lastfm_get(payload)\n",
    "        j = r.json()\n",
    "        if \"topartists\" in j and \"artist\" in j[\"topartists\"]:\n",
    "            artists = r.json()['topartists'][\"artist\"]\n",
    "            for a in artists:\n",
    "                if a['name'] not in artistids:\n",
    "                    artistids.append(a['name'])\n",
    "                    f.write(f\"{userid},{len(artistids)-1},{int(a['playcount'])}\\n\")\n",
    "                else:\n",
    "                    f.write(f\"{userid},{list(artistids).index(a['name'])},{int(a['playcount'])}\\n\")"
   ]
  },
  {
   "cell_type": "markdown",
   "id": "4d14aef9-2895-47a9-bdb5-8d191cb1861d",
   "metadata": {},
   "source": [
    "## Generate user listening data"
   ]
  },
  {
   "cell_type": "code",
   "execution_count": null,
   "id": "064e5017-6c3e-4d2e-9cdd-51ec4edafba2",
   "metadata": {},
   "outputs": [],
   "source": [
    "start = time.perf_counter()\n",
    "client = requests.Session()\n",
    "\n",
    "users = pd.read_csv(\"./udata/usernames.csv\", header=None)[0].to_numpy()\n",
    "#     artistids = pd.read_csv(\"./udata/artists.csv\", header=None)[0].to_numpy()\n",
    "artists = []\n",
    "\n",
    "ftop = open(\"./udata/10000users_200listens.csv\", \"a\", encoding=\"utf-8\")\n",
    "faid = open('./udata/artists.csv', \"a\", encoding=\"utf-8\")\n",
    "\n",
    "uid=0\n",
    "while uid < 10000:\n",
    "#         print(f\"fetching {userids[uid]} w new uid {uid}\")\n",
    "    payload = {\n",
    "        \"method\": \"user.gettopartists\",\n",
    "        \"user\": users[uid],\n",
    "        \"period\": \"overall\",\n",
    "        \"limit\": 200\n",
    "    }\n",
    "    try:\n",
    "        r = lastfm_get(payload)\n",
    "        j = r.json()\n",
    "        if \"topartists\" in j and \"artist\" in j[\"topartists\"]:\n",
    "            listens = r.json()['topartists'][\"artist\"]\n",
    "            for a in listens:\n",
    "                if a['name'] not in artists:\n",
    "                    artists = np.append(artists, a['name'])\n",
    "                    faid.write(f\"{a['name']}\\n\")\n",
    "                ftop.write(f\"{uid},{np.where(artists == a['name'])[0][0]},{int(a['playcount'])}\\n\")\n",
    "    except Exception as e:\n",
    "        print(e)\n",
    "        uid -= 1\n",
    "    uid += 1\n",
    "ftop.close()\n",
    "faid.close()\n",
    "print(time.perf_counter() - start)"
   ]
  },
  {
   "cell_type": "markdown",
   "id": "a5732f10-3707-468d-86d9-e67a4b80f12e",
   "metadata": {},
   "source": [
    "## Scrape for users"
   ]
  },
  {
   "cell_type": "code",
   "execution_count": 6,
   "id": "99d96103-e180-486c-9e06-2d5f4a0fb2ae",
   "metadata": {
    "tags": []
   },
   "outputs": [],
   "source": [
    "def getneighbors(username):\n",
    "    url = f\"https://www.last.fm/user/{username}/neighbours\"\n",
    "    resp = requests.get(url)    \n",
    "    if resp.status_code==200:\n",
    "        soup = BeautifulSoup(resp.text, 'html.parser')\n",
    "        us = soup.find(\"section\", {\"class\": \"neighbours-items-section\"})\n",
    "        if us is not None:\n",
    "            us = us.findAll(\"a\", {\"class\": \"user-list-link link-block-target\"})\n",
    "            return np.asarray([u.text for u in us])\n",
    "    return np.array([])"
   ]
  },
  {
   "cell_type": "code",
   "execution_count": 64,
   "id": "b648914e-1577-4b84-9f5d-1fad15a82760",
   "metadata": {
    "tags": []
   },
   "outputs": [],
   "source": [
    "def openLastfmClient():\n",
    "    payload = payload = {\n",
    "        \"username_or_email\": USER_AGENT,\n",
    "        \"password\": PASSWORD\n",
    "    }\n",
    "    loginurl = \"https://www.last.fm/login\"\n",
    "    client = requests.Session()\n",
    "    client.get(loginurl)\n",
    "    if 'csrftoken' in client.cookies:\n",
    "        # Django 1.6 and up\n",
    "        csrftoken = client.cookies['csrftoken']\n",
    "    else:\n",
    "        # older versions\n",
    "        csrftoken = client.cookies['csrf']\n",
    "    payload[\"csrfmiddlewaretoken\"] = csrftoken\n",
    "    client.headers.update({'referer': loginurl})\n",
    "    client.post(loginurl, data=payload)\n",
    "    return client"
   ]
  },
  {
   "cell_type": "code",
   "execution_count": 65,
   "id": "48f8ef18-994a-4e0f-afa0-185964288b45",
   "metadata": {
    "tags": []
   },
   "outputs": [],
   "source": [
    "def getlisteners(artist, client, pages=[1,2,3]):\n",
    "    users = []\n",
    "    for p in pages:\n",
    "        url = f\"https://www.last.fm/music/{artist}/+listeners?page={p}\"\n",
    "        resp = client.get(url)\n",
    "        if resp.status_code == 200:\n",
    "            soup = BeautifulSoup(resp.text, 'html.parser')\n",
    "            us = soup.findAll(\"h3\", {\"class\": \"top-listeners-item-name\"})\n",
    "            users += [u.find(\"a\").text for u in us]\n",
    "    return users"
   ]
  },
  {
   "cell_type": "code",
   "execution_count": 67,
   "id": "50af6fd7-5b3b-47bb-8d6e-9e664f6d9aad",
   "metadata": {
    "tags": []
   },
   "outputs": [],
   "source": [
    "def crawlTops():\n",
    "    client = openLastfmClient()    \n",
    "    artists  = getTopArtists(n=1000)\n",
    "    my_artists = np.array(getTopArtists_user(\"aidan_bbq\"))\n",
    "    explore = my_artists[~np.isin(my_artists,artists)]\n",
    "    with open(\"./output/toplisteners_me.csv\", \"a\", encoding=\"utf-8\") as f:\n",
    "        for a in explore:\n",
    "            print(f\"on artist: {a}\")\n",
    "            [f.write(f\"{a},{u}\\n\") for u in getlisteners(a,client)]"
   ]
  },
  {
   "cell_type": "markdown",
   "id": "b6c12040-8768-4398-89f1-225f8ce8422d",
   "metadata": {},
   "source": [
    "## Generate user demographics"
   ]
  },
  {
   "cell_type": "code",
   "execution_count": 85,
   "id": "c73952c6-0c59-4d5e-adf2-007e0ee21231",
   "metadata": {
    "collapsed": true,
    "jupyter": {
     "outputs_hidden": true
    },
    "tags": []
   },
   "outputs": [
    {
     "ename": "KeyboardInterrupt",
     "evalue": "",
     "output_type": "error",
     "traceback": [
      "\u001b[1;31m---------------------------------------------------------------------------\u001b[0m",
      "\u001b[1;31mKeyboardInterrupt\u001b[0m                         Traceback (most recent call last)",
      "\u001b[1;32m<ipython-input-85-ee0f003a19f6>\u001b[0m in \u001b[0;36m<module>\u001b[1;34m\u001b[0m\n\u001b[0;32m      2\u001b[0m     \u001b[1;32mwith\u001b[0m \u001b[0mopen\u001b[0m\u001b[1;33m(\u001b[0m\u001b[1;34m\"./output/users_info.csv\"\u001b[0m\u001b[1;33m,\u001b[0m \u001b[1;34m\"w\"\u001b[0m\u001b[1;33m,\u001b[0m \u001b[0mencoding\u001b[0m\u001b[1;33m=\u001b[0m\u001b[1;34m\"utf-8\"\u001b[0m\u001b[1;33m)\u001b[0m \u001b[1;32mas\u001b[0m \u001b[0mfu\u001b[0m\u001b[1;33m:\u001b[0m\u001b[1;33m\u001b[0m\u001b[1;33m\u001b[0m\u001b[0m\n\u001b[0;32m      3\u001b[0m         \u001b[1;32mfor\u001b[0m \u001b[0muser\u001b[0m \u001b[1;32min\u001b[0m \u001b[0mf\u001b[0m\u001b[1;33m.\u001b[0m\u001b[0mreadlines\u001b[0m\u001b[1;33m(\u001b[0m\u001b[1;33m)\u001b[0m\u001b[1;33m:\u001b[0m\u001b[1;33m\u001b[0m\u001b[1;33m\u001b[0m\u001b[0m\n\u001b[1;32m----> 4\u001b[1;33m             \u001b[0mu\u001b[0m \u001b[1;33m=\u001b[0m \u001b[0mgetUserInfo\u001b[0m\u001b[1;33m(\u001b[0m\u001b[0muser\u001b[0m\u001b[1;33m)\u001b[0m\u001b[1;33m\u001b[0m\u001b[1;33m\u001b[0m\u001b[0m\n\u001b[0m\u001b[0;32m      5\u001b[0m             \u001b[0mfu\u001b[0m\u001b[1;33m.\u001b[0m\u001b[0mwrite\u001b[0m\u001b[1;33m(\u001b[0m\u001b[1;34mf\"{u[0]},{u[1]},{u[2]},{u[3]},{u[4]}\\n\"\u001b[0m\u001b[1;33m)\u001b[0m\u001b[1;33m\u001b[0m\u001b[1;33m\u001b[0m\u001b[0m\n",
      "\u001b[1;32m<ipython-input-81-c12ed1c54a51>\u001b[0m in \u001b[0;36mgetUserInfo\u001b[1;34m(user)\u001b[0m\n\u001b[0;32m      4\u001b[0m         \u001b[1;34m\"user\"\u001b[0m\u001b[1;33m:\u001b[0m \u001b[0muser\u001b[0m\u001b[1;33m\u001b[0m\u001b[1;33m\u001b[0m\u001b[0m\n\u001b[0;32m      5\u001b[0m     }\n\u001b[1;32m----> 6\u001b[1;33m     \u001b[0mr\u001b[0m \u001b[1;33m=\u001b[0m \u001b[0mlastfm_get\u001b[0m\u001b[1;33m(\u001b[0m\u001b[0mpayload\u001b[0m\u001b[1;33m)\u001b[0m\u001b[1;33m\u001b[0m\u001b[1;33m\u001b[0m\u001b[0m\n\u001b[0m\u001b[0;32m      7\u001b[0m     \u001b[0mj\u001b[0m \u001b[1;33m=\u001b[0m \u001b[0mr\u001b[0m\u001b[1;33m.\u001b[0m\u001b[0mjson\u001b[0m\u001b[1;33m(\u001b[0m\u001b[1;33m)\u001b[0m\u001b[1;33m[\u001b[0m\u001b[1;34m\"user\"\u001b[0m\u001b[1;33m]\u001b[0m\u001b[1;33m\u001b[0m\u001b[1;33m\u001b[0m\u001b[0m\n\u001b[0;32m      8\u001b[0m     \u001b[1;32mreturn\u001b[0m \u001b[1;33m[\u001b[0m\u001b[0mj\u001b[0m\u001b[1;33m[\u001b[0m\u001b[1;34m\"name\"\u001b[0m\u001b[1;33m]\u001b[0m\u001b[1;33m,\u001b[0m \u001b[0mj\u001b[0m\u001b[1;33m[\u001b[0m\u001b[1;34m\"country\"\u001b[0m\u001b[1;33m]\u001b[0m\u001b[1;33m,\u001b[0m \u001b[0mj\u001b[0m\u001b[1;33m[\u001b[0m\u001b[1;34m\"playcount\"\u001b[0m\u001b[1;33m]\u001b[0m\u001b[1;33m,\u001b[0m \u001b[0mj\u001b[0m\u001b[1;33m[\u001b[0m\u001b[1;34m\"registered\"\u001b[0m\u001b[1;33m]\u001b[0m\u001b[1;33m[\u001b[0m\u001b[1;34m\"unixtime\"\u001b[0m\u001b[1;33m]\u001b[0m\u001b[1;33m,\u001b[0m \u001b[0mj\u001b[0m\u001b[1;33m[\u001b[0m\u001b[1;34m\"gender\"\u001b[0m\u001b[1;33m]\u001b[0m\u001b[1;33m]\u001b[0m\u001b[1;33m\u001b[0m\u001b[1;33m\u001b[0m\u001b[0m\n",
      "\u001b[1;32m<ipython-input-3-f7cf0bd59f2f>\u001b[0m in \u001b[0;36mlastfm_get\u001b[1;34m(payload)\u001b[0m\n\u001b[0;32m     10\u001b[0m     \u001b[0mpayload\u001b[0m\u001b[1;33m[\u001b[0m\u001b[1;34m'format'\u001b[0m\u001b[1;33m]\u001b[0m \u001b[1;33m=\u001b[0m \u001b[1;34m'json'\u001b[0m\u001b[1;33m\u001b[0m\u001b[1;33m\u001b[0m\u001b[0m\n\u001b[0;32m     11\u001b[0m \u001b[1;33m\u001b[0m\u001b[0m\n\u001b[1;32m---> 12\u001b[1;33m     \u001b[0mresponse\u001b[0m \u001b[1;33m=\u001b[0m \u001b[0mrequests\u001b[0m\u001b[1;33m.\u001b[0m\u001b[0mget\u001b[0m\u001b[1;33m(\u001b[0m\u001b[0murl\u001b[0m\u001b[1;33m,\u001b[0m \u001b[0mheaders\u001b[0m\u001b[1;33m=\u001b[0m\u001b[0mheaders\u001b[0m\u001b[1;33m,\u001b[0m \u001b[0mparams\u001b[0m\u001b[1;33m=\u001b[0m\u001b[0mpayload\u001b[0m\u001b[1;33m)\u001b[0m\u001b[1;33m\u001b[0m\u001b[1;33m\u001b[0m\u001b[0m\n\u001b[0m\u001b[0;32m     13\u001b[0m     \u001b[1;32mreturn\u001b[0m \u001b[0mresponse\u001b[0m\u001b[1;33m\u001b[0m\u001b[1;33m\u001b[0m\u001b[0m\n",
      "\u001b[1;32m~\\anaconda3\\lib\\site-packages\\requests\\api.py\u001b[0m in \u001b[0;36mget\u001b[1;34m(url, params, **kwargs)\u001b[0m\n\u001b[0;32m     74\u001b[0m \u001b[1;33m\u001b[0m\u001b[0m\n\u001b[0;32m     75\u001b[0m     \u001b[0mkwargs\u001b[0m\u001b[1;33m.\u001b[0m\u001b[0msetdefault\u001b[0m\u001b[1;33m(\u001b[0m\u001b[1;34m'allow_redirects'\u001b[0m\u001b[1;33m,\u001b[0m \u001b[1;32mTrue\u001b[0m\u001b[1;33m)\u001b[0m\u001b[1;33m\u001b[0m\u001b[1;33m\u001b[0m\u001b[0m\n\u001b[1;32m---> 76\u001b[1;33m     \u001b[1;32mreturn\u001b[0m \u001b[0mrequest\u001b[0m\u001b[1;33m(\u001b[0m\u001b[1;34m'get'\u001b[0m\u001b[1;33m,\u001b[0m \u001b[0murl\u001b[0m\u001b[1;33m,\u001b[0m \u001b[0mparams\u001b[0m\u001b[1;33m=\u001b[0m\u001b[0mparams\u001b[0m\u001b[1;33m,\u001b[0m \u001b[1;33m**\u001b[0m\u001b[0mkwargs\u001b[0m\u001b[1;33m)\u001b[0m\u001b[1;33m\u001b[0m\u001b[1;33m\u001b[0m\u001b[0m\n\u001b[0m\u001b[0;32m     77\u001b[0m \u001b[1;33m\u001b[0m\u001b[0m\n\u001b[0;32m     78\u001b[0m \u001b[1;33m\u001b[0m\u001b[0m\n",
      "\u001b[1;32m~\\anaconda3\\lib\\site-packages\\requests\\api.py\u001b[0m in \u001b[0;36mrequest\u001b[1;34m(method, url, **kwargs)\u001b[0m\n\u001b[0;32m     59\u001b[0m     \u001b[1;31m# cases, and look like a memory leak in others.\u001b[0m\u001b[1;33m\u001b[0m\u001b[1;33m\u001b[0m\u001b[1;33m\u001b[0m\u001b[0m\n\u001b[0;32m     60\u001b[0m     \u001b[1;32mwith\u001b[0m \u001b[0msessions\u001b[0m\u001b[1;33m.\u001b[0m\u001b[0mSession\u001b[0m\u001b[1;33m(\u001b[0m\u001b[1;33m)\u001b[0m \u001b[1;32mas\u001b[0m \u001b[0msession\u001b[0m\u001b[1;33m:\u001b[0m\u001b[1;33m\u001b[0m\u001b[1;33m\u001b[0m\u001b[0m\n\u001b[1;32m---> 61\u001b[1;33m         \u001b[1;32mreturn\u001b[0m \u001b[0msession\u001b[0m\u001b[1;33m.\u001b[0m\u001b[0mrequest\u001b[0m\u001b[1;33m(\u001b[0m\u001b[0mmethod\u001b[0m\u001b[1;33m=\u001b[0m\u001b[0mmethod\u001b[0m\u001b[1;33m,\u001b[0m \u001b[0murl\u001b[0m\u001b[1;33m=\u001b[0m\u001b[0murl\u001b[0m\u001b[1;33m,\u001b[0m \u001b[1;33m**\u001b[0m\u001b[0mkwargs\u001b[0m\u001b[1;33m)\u001b[0m\u001b[1;33m\u001b[0m\u001b[1;33m\u001b[0m\u001b[0m\n\u001b[0m\u001b[0;32m     62\u001b[0m \u001b[1;33m\u001b[0m\u001b[0m\n\u001b[0;32m     63\u001b[0m \u001b[1;33m\u001b[0m\u001b[0m\n",
      "\u001b[1;32m~\\anaconda3\\lib\\site-packages\\requests\\sessions.py\u001b[0m in \u001b[0;36mrequest\u001b[1;34m(self, method, url, params, data, headers, cookies, files, auth, timeout, allow_redirects, proxies, hooks, stream, verify, cert, json)\u001b[0m\n\u001b[0;32m    540\u001b[0m         }\n\u001b[0;32m    541\u001b[0m         \u001b[0msend_kwargs\u001b[0m\u001b[1;33m.\u001b[0m\u001b[0mupdate\u001b[0m\u001b[1;33m(\u001b[0m\u001b[0msettings\u001b[0m\u001b[1;33m)\u001b[0m\u001b[1;33m\u001b[0m\u001b[1;33m\u001b[0m\u001b[0m\n\u001b[1;32m--> 542\u001b[1;33m         \u001b[0mresp\u001b[0m \u001b[1;33m=\u001b[0m \u001b[0mself\u001b[0m\u001b[1;33m.\u001b[0m\u001b[0msend\u001b[0m\u001b[1;33m(\u001b[0m\u001b[0mprep\u001b[0m\u001b[1;33m,\u001b[0m \u001b[1;33m**\u001b[0m\u001b[0msend_kwargs\u001b[0m\u001b[1;33m)\u001b[0m\u001b[1;33m\u001b[0m\u001b[1;33m\u001b[0m\u001b[0m\n\u001b[0m\u001b[0;32m    543\u001b[0m \u001b[1;33m\u001b[0m\u001b[0m\n\u001b[0;32m    544\u001b[0m         \u001b[1;32mreturn\u001b[0m \u001b[0mresp\u001b[0m\u001b[1;33m\u001b[0m\u001b[1;33m\u001b[0m\u001b[0m\n",
      "\u001b[1;32m~\\anaconda3\\lib\\site-packages\\requests\\sessions.py\u001b[0m in \u001b[0;36msend\u001b[1;34m(self, request, **kwargs)\u001b[0m\n\u001b[0;32m    653\u001b[0m \u001b[1;33m\u001b[0m\u001b[0m\n\u001b[0;32m    654\u001b[0m         \u001b[1;31m# Send the request\u001b[0m\u001b[1;33m\u001b[0m\u001b[1;33m\u001b[0m\u001b[1;33m\u001b[0m\u001b[0m\n\u001b[1;32m--> 655\u001b[1;33m         \u001b[0mr\u001b[0m \u001b[1;33m=\u001b[0m \u001b[0madapter\u001b[0m\u001b[1;33m.\u001b[0m\u001b[0msend\u001b[0m\u001b[1;33m(\u001b[0m\u001b[0mrequest\u001b[0m\u001b[1;33m,\u001b[0m \u001b[1;33m**\u001b[0m\u001b[0mkwargs\u001b[0m\u001b[1;33m)\u001b[0m\u001b[1;33m\u001b[0m\u001b[1;33m\u001b[0m\u001b[0m\n\u001b[0m\u001b[0;32m    656\u001b[0m \u001b[1;33m\u001b[0m\u001b[0m\n\u001b[0;32m    657\u001b[0m         \u001b[1;31m# Total elapsed time of the request (approximately)\u001b[0m\u001b[1;33m\u001b[0m\u001b[1;33m\u001b[0m\u001b[1;33m\u001b[0m\u001b[0m\n",
      "\u001b[1;32m~\\anaconda3\\lib\\site-packages\\requests\\adapters.py\u001b[0m in \u001b[0;36msend\u001b[1;34m(self, request, stream, timeout, verify, cert, proxies)\u001b[0m\n\u001b[0;32m    437\u001b[0m         \u001b[1;32mtry\u001b[0m\u001b[1;33m:\u001b[0m\u001b[1;33m\u001b[0m\u001b[1;33m\u001b[0m\u001b[0m\n\u001b[0;32m    438\u001b[0m             \u001b[1;32mif\u001b[0m \u001b[1;32mnot\u001b[0m \u001b[0mchunked\u001b[0m\u001b[1;33m:\u001b[0m\u001b[1;33m\u001b[0m\u001b[1;33m\u001b[0m\u001b[0m\n\u001b[1;32m--> 439\u001b[1;33m                 resp = conn.urlopen(\n\u001b[0m\u001b[0;32m    440\u001b[0m                     \u001b[0mmethod\u001b[0m\u001b[1;33m=\u001b[0m\u001b[0mrequest\u001b[0m\u001b[1;33m.\u001b[0m\u001b[0mmethod\u001b[0m\u001b[1;33m,\u001b[0m\u001b[1;33m\u001b[0m\u001b[1;33m\u001b[0m\u001b[0m\n\u001b[0;32m    441\u001b[0m                     \u001b[0murl\u001b[0m\u001b[1;33m=\u001b[0m\u001b[0murl\u001b[0m\u001b[1;33m,\u001b[0m\u001b[1;33m\u001b[0m\u001b[1;33m\u001b[0m\u001b[0m\n",
      "\u001b[1;32m~\\anaconda3\\lib\\site-packages\\urllib3\\connectionpool.py\u001b[0m in \u001b[0;36murlopen\u001b[1;34m(self, method, url, body, headers, retries, redirect, assert_same_host, timeout, pool_timeout, release_conn, chunked, body_pos, **response_kw)\u001b[0m\n\u001b[0;32m    697\u001b[0m \u001b[1;33m\u001b[0m\u001b[0m\n\u001b[0;32m    698\u001b[0m             \u001b[1;31m# Make the request on the httplib connection object.\u001b[0m\u001b[1;33m\u001b[0m\u001b[1;33m\u001b[0m\u001b[1;33m\u001b[0m\u001b[0m\n\u001b[1;32m--> 699\u001b[1;33m             httplib_response = self._make_request(\n\u001b[0m\u001b[0;32m    700\u001b[0m                 \u001b[0mconn\u001b[0m\u001b[1;33m,\u001b[0m\u001b[1;33m\u001b[0m\u001b[1;33m\u001b[0m\u001b[0m\n\u001b[0;32m    701\u001b[0m                 \u001b[0mmethod\u001b[0m\u001b[1;33m,\u001b[0m\u001b[1;33m\u001b[0m\u001b[1;33m\u001b[0m\u001b[0m\n",
      "\u001b[1;32m~\\anaconda3\\lib\\site-packages\\urllib3\\connectionpool.py\u001b[0m in \u001b[0;36m_make_request\u001b[1;34m(self, conn, method, url, timeout, chunked, **httplib_request_kw)\u001b[0m\n\u001b[0;32m    443\u001b[0m                     \u001b[1;31m# Python 3 (including for exceptions like SystemExit).\u001b[0m\u001b[1;33m\u001b[0m\u001b[1;33m\u001b[0m\u001b[1;33m\u001b[0m\u001b[0m\n\u001b[0;32m    444\u001b[0m                     \u001b[1;31m# Otherwise it looks like a bug in the code.\u001b[0m\u001b[1;33m\u001b[0m\u001b[1;33m\u001b[0m\u001b[1;33m\u001b[0m\u001b[0m\n\u001b[1;32m--> 445\u001b[1;33m                     \u001b[0msix\u001b[0m\u001b[1;33m.\u001b[0m\u001b[0mraise_from\u001b[0m\u001b[1;33m(\u001b[0m\u001b[0me\u001b[0m\u001b[1;33m,\u001b[0m \u001b[1;32mNone\u001b[0m\u001b[1;33m)\u001b[0m\u001b[1;33m\u001b[0m\u001b[1;33m\u001b[0m\u001b[0m\n\u001b[0m\u001b[0;32m    446\u001b[0m         \u001b[1;32mexcept\u001b[0m \u001b[1;33m(\u001b[0m\u001b[0mSocketTimeout\u001b[0m\u001b[1;33m,\u001b[0m \u001b[0mBaseSSLError\u001b[0m\u001b[1;33m,\u001b[0m \u001b[0mSocketError\u001b[0m\u001b[1;33m)\u001b[0m \u001b[1;32mas\u001b[0m \u001b[0me\u001b[0m\u001b[1;33m:\u001b[0m\u001b[1;33m\u001b[0m\u001b[1;33m\u001b[0m\u001b[0m\n\u001b[0;32m    447\u001b[0m             \u001b[0mself\u001b[0m\u001b[1;33m.\u001b[0m\u001b[0m_raise_timeout\u001b[0m\u001b[1;33m(\u001b[0m\u001b[0merr\u001b[0m\u001b[1;33m=\u001b[0m\u001b[0me\u001b[0m\u001b[1;33m,\u001b[0m \u001b[0murl\u001b[0m\u001b[1;33m=\u001b[0m\u001b[0murl\u001b[0m\u001b[1;33m,\u001b[0m \u001b[0mtimeout_value\u001b[0m\u001b[1;33m=\u001b[0m\u001b[0mread_timeout\u001b[0m\u001b[1;33m)\u001b[0m\u001b[1;33m\u001b[0m\u001b[1;33m\u001b[0m\u001b[0m\n",
      "\u001b[1;32m~\\anaconda3\\lib\\site-packages\\urllib3\\packages\\six.py\u001b[0m in \u001b[0;36mraise_from\u001b[1;34m(value, from_value)\u001b[0m\n",
      "\u001b[1;32m~\\anaconda3\\lib\\site-packages\\urllib3\\connectionpool.py\u001b[0m in \u001b[0;36m_make_request\u001b[1;34m(self, conn, method, url, timeout, chunked, **httplib_request_kw)\u001b[0m\n\u001b[0;32m    438\u001b[0m                 \u001b[1;31m# Python 3\u001b[0m\u001b[1;33m\u001b[0m\u001b[1;33m\u001b[0m\u001b[1;33m\u001b[0m\u001b[0m\n\u001b[0;32m    439\u001b[0m                 \u001b[1;32mtry\u001b[0m\u001b[1;33m:\u001b[0m\u001b[1;33m\u001b[0m\u001b[1;33m\u001b[0m\u001b[0m\n\u001b[1;32m--> 440\u001b[1;33m                     \u001b[0mhttplib_response\u001b[0m \u001b[1;33m=\u001b[0m \u001b[0mconn\u001b[0m\u001b[1;33m.\u001b[0m\u001b[0mgetresponse\u001b[0m\u001b[1;33m(\u001b[0m\u001b[1;33m)\u001b[0m\u001b[1;33m\u001b[0m\u001b[1;33m\u001b[0m\u001b[0m\n\u001b[0m\u001b[0;32m    441\u001b[0m                 \u001b[1;32mexcept\u001b[0m \u001b[0mBaseException\u001b[0m \u001b[1;32mas\u001b[0m \u001b[0me\u001b[0m\u001b[1;33m:\u001b[0m\u001b[1;33m\u001b[0m\u001b[1;33m\u001b[0m\u001b[0m\n\u001b[0;32m    442\u001b[0m                     \u001b[1;31m# Remove the TypeError from the exception chain in\u001b[0m\u001b[1;33m\u001b[0m\u001b[1;33m\u001b[0m\u001b[1;33m\u001b[0m\u001b[0m\n",
      "\u001b[1;32m~\\anaconda3\\lib\\http\\client.py\u001b[0m in \u001b[0;36mgetresponse\u001b[1;34m(self)\u001b[0m\n\u001b[0;32m   1345\u001b[0m         \u001b[1;32mtry\u001b[0m\u001b[1;33m:\u001b[0m\u001b[1;33m\u001b[0m\u001b[1;33m\u001b[0m\u001b[0m\n\u001b[0;32m   1346\u001b[0m             \u001b[1;32mtry\u001b[0m\u001b[1;33m:\u001b[0m\u001b[1;33m\u001b[0m\u001b[1;33m\u001b[0m\u001b[0m\n\u001b[1;32m-> 1347\u001b[1;33m                 \u001b[0mresponse\u001b[0m\u001b[1;33m.\u001b[0m\u001b[0mbegin\u001b[0m\u001b[1;33m(\u001b[0m\u001b[1;33m)\u001b[0m\u001b[1;33m\u001b[0m\u001b[1;33m\u001b[0m\u001b[0m\n\u001b[0m\u001b[0;32m   1348\u001b[0m             \u001b[1;32mexcept\u001b[0m \u001b[0mConnectionError\u001b[0m\u001b[1;33m:\u001b[0m\u001b[1;33m\u001b[0m\u001b[1;33m\u001b[0m\u001b[0m\n\u001b[0;32m   1349\u001b[0m                 \u001b[0mself\u001b[0m\u001b[1;33m.\u001b[0m\u001b[0mclose\u001b[0m\u001b[1;33m(\u001b[0m\u001b[1;33m)\u001b[0m\u001b[1;33m\u001b[0m\u001b[1;33m\u001b[0m\u001b[0m\n",
      "\u001b[1;32m~\\anaconda3\\lib\\http\\client.py\u001b[0m in \u001b[0;36mbegin\u001b[1;34m(self)\u001b[0m\n\u001b[0;32m    305\u001b[0m         \u001b[1;31m# read until we get a non-100 response\u001b[0m\u001b[1;33m\u001b[0m\u001b[1;33m\u001b[0m\u001b[1;33m\u001b[0m\u001b[0m\n\u001b[0;32m    306\u001b[0m         \u001b[1;32mwhile\u001b[0m \u001b[1;32mTrue\u001b[0m\u001b[1;33m:\u001b[0m\u001b[1;33m\u001b[0m\u001b[1;33m\u001b[0m\u001b[0m\n\u001b[1;32m--> 307\u001b[1;33m             \u001b[0mversion\u001b[0m\u001b[1;33m,\u001b[0m \u001b[0mstatus\u001b[0m\u001b[1;33m,\u001b[0m \u001b[0mreason\u001b[0m \u001b[1;33m=\u001b[0m \u001b[0mself\u001b[0m\u001b[1;33m.\u001b[0m\u001b[0m_read_status\u001b[0m\u001b[1;33m(\u001b[0m\u001b[1;33m)\u001b[0m\u001b[1;33m\u001b[0m\u001b[1;33m\u001b[0m\u001b[0m\n\u001b[0m\u001b[0;32m    308\u001b[0m             \u001b[1;32mif\u001b[0m \u001b[0mstatus\u001b[0m \u001b[1;33m!=\u001b[0m \u001b[0mCONTINUE\u001b[0m\u001b[1;33m:\u001b[0m\u001b[1;33m\u001b[0m\u001b[1;33m\u001b[0m\u001b[0m\n\u001b[0;32m    309\u001b[0m                 \u001b[1;32mbreak\u001b[0m\u001b[1;33m\u001b[0m\u001b[1;33m\u001b[0m\u001b[0m\n",
      "\u001b[1;32m~\\anaconda3\\lib\\http\\client.py\u001b[0m in \u001b[0;36m_read_status\u001b[1;34m(self)\u001b[0m\n\u001b[0;32m    266\u001b[0m \u001b[1;33m\u001b[0m\u001b[0m\n\u001b[0;32m    267\u001b[0m     \u001b[1;32mdef\u001b[0m \u001b[0m_read_status\u001b[0m\u001b[1;33m(\u001b[0m\u001b[0mself\u001b[0m\u001b[1;33m)\u001b[0m\u001b[1;33m:\u001b[0m\u001b[1;33m\u001b[0m\u001b[1;33m\u001b[0m\u001b[0m\n\u001b[1;32m--> 268\u001b[1;33m         \u001b[0mline\u001b[0m \u001b[1;33m=\u001b[0m \u001b[0mstr\u001b[0m\u001b[1;33m(\u001b[0m\u001b[0mself\u001b[0m\u001b[1;33m.\u001b[0m\u001b[0mfp\u001b[0m\u001b[1;33m.\u001b[0m\u001b[0mreadline\u001b[0m\u001b[1;33m(\u001b[0m\u001b[0m_MAXLINE\u001b[0m \u001b[1;33m+\u001b[0m \u001b[1;36m1\u001b[0m\u001b[1;33m)\u001b[0m\u001b[1;33m,\u001b[0m \u001b[1;34m\"iso-8859-1\"\u001b[0m\u001b[1;33m)\u001b[0m\u001b[1;33m\u001b[0m\u001b[1;33m\u001b[0m\u001b[0m\n\u001b[0m\u001b[0;32m    269\u001b[0m         \u001b[1;32mif\u001b[0m \u001b[0mlen\u001b[0m\u001b[1;33m(\u001b[0m\u001b[0mline\u001b[0m\u001b[1;33m)\u001b[0m \u001b[1;33m>\u001b[0m \u001b[0m_MAXLINE\u001b[0m\u001b[1;33m:\u001b[0m\u001b[1;33m\u001b[0m\u001b[1;33m\u001b[0m\u001b[0m\n\u001b[0;32m    270\u001b[0m             \u001b[1;32mraise\u001b[0m \u001b[0mLineTooLong\u001b[0m\u001b[1;33m(\u001b[0m\u001b[1;34m\"status line\"\u001b[0m\u001b[1;33m)\u001b[0m\u001b[1;33m\u001b[0m\u001b[1;33m\u001b[0m\u001b[0m\n",
      "\u001b[1;32m~\\anaconda3\\lib\\socket.py\u001b[0m in \u001b[0;36mreadinto\u001b[1;34m(self, b)\u001b[0m\n\u001b[0;32m    667\u001b[0m         \u001b[1;32mwhile\u001b[0m \u001b[1;32mTrue\u001b[0m\u001b[1;33m:\u001b[0m\u001b[1;33m\u001b[0m\u001b[1;33m\u001b[0m\u001b[0m\n\u001b[0;32m    668\u001b[0m             \u001b[1;32mtry\u001b[0m\u001b[1;33m:\u001b[0m\u001b[1;33m\u001b[0m\u001b[1;33m\u001b[0m\u001b[0m\n\u001b[1;32m--> 669\u001b[1;33m                 \u001b[1;32mreturn\u001b[0m \u001b[0mself\u001b[0m\u001b[1;33m.\u001b[0m\u001b[0m_sock\u001b[0m\u001b[1;33m.\u001b[0m\u001b[0mrecv_into\u001b[0m\u001b[1;33m(\u001b[0m\u001b[0mb\u001b[0m\u001b[1;33m)\u001b[0m\u001b[1;33m\u001b[0m\u001b[1;33m\u001b[0m\u001b[0m\n\u001b[0m\u001b[0;32m    670\u001b[0m             \u001b[1;32mexcept\u001b[0m \u001b[0mtimeout\u001b[0m\u001b[1;33m:\u001b[0m\u001b[1;33m\u001b[0m\u001b[1;33m\u001b[0m\u001b[0m\n\u001b[0;32m    671\u001b[0m                 \u001b[0mself\u001b[0m\u001b[1;33m.\u001b[0m\u001b[0m_timeout_occurred\u001b[0m \u001b[1;33m=\u001b[0m \u001b[1;32mTrue\u001b[0m\u001b[1;33m\u001b[0m\u001b[1;33m\u001b[0m\u001b[0m\n",
      "\u001b[1;32m~\\anaconda3\\lib\\ssl.py\u001b[0m in \u001b[0;36mrecv_into\u001b[1;34m(self, buffer, nbytes, flags)\u001b[0m\n\u001b[0;32m   1239\u001b[0m                   \u001b[1;34m\"non-zero flags not allowed in calls to recv_into() on %s\"\u001b[0m \u001b[1;33m%\u001b[0m\u001b[1;33m\u001b[0m\u001b[1;33m\u001b[0m\u001b[0m\n\u001b[0;32m   1240\u001b[0m                   self.__class__)\n\u001b[1;32m-> 1241\u001b[1;33m             \u001b[1;32mreturn\u001b[0m \u001b[0mself\u001b[0m\u001b[1;33m.\u001b[0m\u001b[0mread\u001b[0m\u001b[1;33m(\u001b[0m\u001b[0mnbytes\u001b[0m\u001b[1;33m,\u001b[0m \u001b[0mbuffer\u001b[0m\u001b[1;33m)\u001b[0m\u001b[1;33m\u001b[0m\u001b[1;33m\u001b[0m\u001b[0m\n\u001b[0m\u001b[0;32m   1242\u001b[0m         \u001b[1;32melse\u001b[0m\u001b[1;33m:\u001b[0m\u001b[1;33m\u001b[0m\u001b[1;33m\u001b[0m\u001b[0m\n\u001b[0;32m   1243\u001b[0m             \u001b[1;32mreturn\u001b[0m \u001b[0msuper\u001b[0m\u001b[1;33m(\u001b[0m\u001b[1;33m)\u001b[0m\u001b[1;33m.\u001b[0m\u001b[0mrecv_into\u001b[0m\u001b[1;33m(\u001b[0m\u001b[0mbuffer\u001b[0m\u001b[1;33m,\u001b[0m \u001b[0mnbytes\u001b[0m\u001b[1;33m,\u001b[0m \u001b[0mflags\u001b[0m\u001b[1;33m)\u001b[0m\u001b[1;33m\u001b[0m\u001b[1;33m\u001b[0m\u001b[0m\n",
      "\u001b[1;32m~\\anaconda3\\lib\\ssl.py\u001b[0m in \u001b[0;36mread\u001b[1;34m(self, len, buffer)\u001b[0m\n\u001b[0;32m   1097\u001b[0m         \u001b[1;32mtry\u001b[0m\u001b[1;33m:\u001b[0m\u001b[1;33m\u001b[0m\u001b[1;33m\u001b[0m\u001b[0m\n\u001b[0;32m   1098\u001b[0m             \u001b[1;32mif\u001b[0m \u001b[0mbuffer\u001b[0m \u001b[1;32mis\u001b[0m \u001b[1;32mnot\u001b[0m \u001b[1;32mNone\u001b[0m\u001b[1;33m:\u001b[0m\u001b[1;33m\u001b[0m\u001b[1;33m\u001b[0m\u001b[0m\n\u001b[1;32m-> 1099\u001b[1;33m                 \u001b[1;32mreturn\u001b[0m \u001b[0mself\u001b[0m\u001b[1;33m.\u001b[0m\u001b[0m_sslobj\u001b[0m\u001b[1;33m.\u001b[0m\u001b[0mread\u001b[0m\u001b[1;33m(\u001b[0m\u001b[0mlen\u001b[0m\u001b[1;33m,\u001b[0m \u001b[0mbuffer\u001b[0m\u001b[1;33m)\u001b[0m\u001b[1;33m\u001b[0m\u001b[1;33m\u001b[0m\u001b[0m\n\u001b[0m\u001b[0;32m   1100\u001b[0m             \u001b[1;32melse\u001b[0m\u001b[1;33m:\u001b[0m\u001b[1;33m\u001b[0m\u001b[1;33m\u001b[0m\u001b[0m\n\u001b[0;32m   1101\u001b[0m                 \u001b[1;32mreturn\u001b[0m \u001b[0mself\u001b[0m\u001b[1;33m.\u001b[0m\u001b[0m_sslobj\u001b[0m\u001b[1;33m.\u001b[0m\u001b[0mread\u001b[0m\u001b[1;33m(\u001b[0m\u001b[0mlen\u001b[0m\u001b[1;33m)\u001b[0m\u001b[1;33m\u001b[0m\u001b[1;33m\u001b[0m\u001b[0m\n",
      "\u001b[1;31mKeyboardInterrupt\u001b[0m: "
     ]
    }
   ],
   "source": [
    "with open(\"./output/users_unique.csv\", \"r\", encoding=\"utf-8\") as f:\n",
    "    with open(\"./output/users_info.csv\", \"w\", encoding=\"utf-8\") as fu:\n",
    "        for user in f.readlines():\n",
    "            u = getUserInfo(user)\n",
    "            fu.write(f\"{u[0]},{u[1]},{u[2]},{u[3]},{u[4]}\\n\")"
   ]
  },
  {
   "cell_type": "markdown",
   "id": "2ac20244-d7f5-4c03-94b9-6ae2269d9ae7",
   "metadata": {},
   "source": [
    "## Scrape last.fm via user neighbors"
   ]
  },
  {
   "cell_type": "code",
   "execution_count": null,
   "id": "25cb05d8-957b-4a9f-94e5-154ec8c27add",
   "metadata": {},
   "outputs": [],
   "source": [
    "datafile = \"./output/toplisteners_me.csv\"\n",
    "with open(datafile, 'r', encoding=\"utf-8\") as f:\n",
    "    lines = [[node for node in re.split('[,](?!\\s)',edge.strip('\\n'))[:2]] for edge in f.readlines() if edge[0][0] != '#']\n",
    "    topls = pd.DataFrame(lines, columns = [\"artist\", \"user\"])"
   ]
  },
  {
   "cell_type": "code",
   "execution_count": 10,
   "id": "7023bcd6-4e8e-439b-8d65-79f03dd9e682",
   "metadata": {
    "tags": []
   },
   "outputs": [],
   "source": [
    "userheads = topls.user\n",
    "searchstack = deque(userheads)\n",
    "userset = set(userheads)\n",
    "explored = np.array([]) \n",
    "useredges = None # to make graph of users"
   ]
  },
  {
   "cell_type": "code",
   "execution_count": 11,
   "id": "8447e59f-252f-4321-b42a-42bc8e8a2afd",
   "metadata": {},
   "outputs": [],
   "source": [
    "edges = None\n",
    "datafile = \"./output/both-neighs.csv\"\n",
    "with open(datafile, 'r') as f:\n",
    "    lines = [[node for node in re.split(',',edge.strip('\\n'))[:2]] for edge in f.readlines() if edge[0][0] != '#']\n",
    "    edges = np.array(lines)"
   ]
  },
  {
   "cell_type": "code",
   "execution_count": 12,
   "id": "668bb510-6650-4ced-863a-d4c0841eb8a5",
   "metadata": {
    "tags": []
   },
   "outputs": [],
   "source": [
    "tot_userset = set(edges.flatten())\n",
    "tot_explored = np.array(set(edges[:,0]))\n",
    "explored = tot_explored"
   ]
  },
  {
   "cell_type": "code",
   "execution_count": 13,
   "id": "ffc499e5-5759-47e5-9c58-c5d28e98745c",
   "metadata": {},
   "outputs": [],
   "source": [
    "newf = open(\"./output/new-neighs.csv\", \"a\", encoding=\"utf-8\")\n",
    "totf = open(\"./output/both-neighs.csv\", \"a\", encoding=\"utf-8\")"
   ]
  },
  {
   "cell_type": "code",
   "execution_count": 14,
   "id": "9481dc19-b4fb-4bd1-8d73-06db9097afbf",
   "metadata": {
    "collapsed": true,
    "jupyter": {
     "outputs_hidden": true
    },
    "tags": []
   },
   "outputs": [
    {
     "name": "stdout",
     "output_type": "stream",
     "text": [
      "explored sagalx, found 50 new users, 1 totally new, 59345 total\n",
      "explored classicalbird, found 50 new users, 0 totally new, 59345 total\n",
      "explored Arthur_Zeitter, found 50 new users, 0 totally new, 59345 total\n",
      "explored Ykswo, found 50 new users, 0 totally new, 59345 total\n",
      "explored sandundermyfeet, found 50 new users, 0 totally new, 59345 total\n",
      "explored YaBoiRockstar, found 50 new users, 0 totally new, 59345 total\n",
      "explored whitech0c0late, found 50 new users, 0 totally new, 59345 total\n",
      "explored Alessandro19ds, found 0 new users, 0 totally new, 59345 total\n"
     ]
    },
    {
     "name": "stderr",
     "output_type": "stream",
     "text": [
      "C:\\Users\\barbi\\anaconda3\\lib\\site-packages\\numpy\\lib\\arraysetops.py:583: FutureWarning: elementwise comparison failed; returning scalar instead, but in the future will perform elementwise comparison\n",
      "  mask |= (ar1 == a)\n"
     ]
    },
    {
     "name": "stdout",
     "output_type": "stream",
     "text": [
      "explored staywithziam, found 50 new users, 3 totally new, 59348 total\n",
      "explored Juandamejiam, found 32 new users, 0 totally new, 59348 total\n",
      "explored LouisThorne23, found 47 new users, 0 totally new, 59348 total\n",
      "explored Hebastian15, found 25 new users, 0 totally new, 59348 total\n",
      "explored IfUSeekLucas, found 48 new users, 0 totally new, 59348 total\n",
      "explored olegoleg24, found 47 new users, 0 totally new, 59348 total\n",
      "explored Interspeed177, found 37 new users, 0 totally new, 59348 total\n",
      "explored sajan__, found 20 new users, 0 totally new, 59348 total\n",
      "explored Sumi_Licious, found 13 new users, 0 totally new, 59348 total\n",
      "explored leonardopeh189, found 5 new users, 0 totally new, 59348 total\n",
      "explored savosuh10, found 4 new users, 0 totally new, 59348 total\n",
      "explored Willycyrus23, found 35 new users, 0 totally new, 59348 total\n",
      "explored lucgsas, found 28 new users, 0 totally new, 59348 total\n",
      "explored mariadr3w, found 42 new users, 1 totally new, 59349 total\n",
      "explored caleblg, found 6 new users, 0 totally new, 59349 total\n",
      "explored Binsha_10, found 5 new users, 0 totally new, 59349 total\n",
      "explored bersiwhaj, found 33 new users, 0 totally new, 59349 total\n",
      "explored Binsha10, found 4 new users, 0 totally new, 59349 total\n",
      "explored Itschris43, found 2 new users, 0 totally new, 59349 total\n",
      "explored christinakllc, found 2 new users, 0 totally new, 59349 total\n",
      "explored Riccxrdo, found 48 new users, 1 totally new, 59350 total\n",
      "explored lil2fate, found 43 new users, 0 totally new, 59350 total\n",
      "explored cruelwoorld, found 1 new users, 0 totally new, 59350 total\n",
      "explored mariiofdz, found 37 new users, 0 totally new, 59350 total\n",
      "explored Banshee_eh, found 3 new users, 0 totally new, 59350 total\n",
      "explored SemyFerraz, found 4 new users, 0 totally new, 59350 total\n",
      "explored justIuvme, found 1 new users, 0 totally new, 59350 total\n",
      "explored loseyoutoIoveme, found 1 new users, 0 totally new, 59350 total\n",
      "explored CharisRR0312, found 6 new users, 0 totally new, 59350 total\n",
      "explored AndrBAntn, found 31 new users, 0 totally new, 59350 total\n",
      "explored chiefvictor97, found 5 new users, 1 totally new, 59351 total\n",
      "explored Carroch, found 33 new users, 0 totally new, 59351 total\n",
      "explored rodrigo547_, found 1 new users, 0 totally new, 59351 total\n",
      "explored Ikasakra, found 2 new users, 0 totally new, 59351 total\n",
      "explored vinivblur, found 46 new users, 0 totally new, 59351 total\n",
      "explored Bakulika, found 1 new users, 0 totally new, 59351 total\n",
      "explored itsmitasss, found 37 new users, 4 totally new, 59355 total\n",
      "explored cristpat21, found 0 new users, 0 totally new, 59355 total\n",
      "explored Behsz, found 20 new users, 0 totally new, 59355 total\n",
      "explored danielllmoreira, found 12 new users, 0 totally new, 59355 total\n",
      "explored sanakhan0, found 4 new users, 0 totally new, 59355 total\n",
      "explored TheNichi, found 47 new users, 6 totally new, 59361 total\n",
      "explored CelineCampos, found 50 new users, 0 totally new, 59361 total\n",
      "explored juleskey, found 3 new users, 0 totally new, 59361 total\n",
      "explored Tato_H, found 42 new users, 1 totally new, 59362 total\n",
      "explored vulnerablesg, found 13 new users, 0 totally new, 59362 total\n",
      "explored Tryia, found 39 new users, 1 totally new, 59363 total\n",
      "explored Teniqu, found 3 new users, 0 totally new, 59363 total\n",
      "explored boltx393, found 33 new users, 1 totally new, 59364 total\n",
      "explored liyweh, found 22 new users, 0 totally new, 59364 total\n",
      "explored pgrepon, found 24 new users, 0 totally new, 59364 total\n",
      "explored ugo-last-fm, found 31 new users, 0 totally new, 59364 total\n",
      "explored FontaineLeglou, found 10 new users, 0 totally new, 59364 total\n",
      "explored whens, found 36 new users, 0 totally new, 59364 total\n",
      "explored zctwx84, found 9 new users, 0 totally new, 59364 total\n",
      "explored Orderofthegash, found 15 new users, 0 totally new, 59364 total\n",
      "explored ivanpavlik, found 50 new users, 48 totally new, 59412 total\n",
      "explored erdinc90, found 7 new users, 0 totally new, 59412 total\n",
      "explored TdjS, found 23 new users, 0 totally new, 59412 total\n",
      "explored henriquemaia, found 50 new users, 0 totally new, 59412 total\n",
      "explored SeanJMusic, found 9 new users, 1 totally new, 59413 total\n",
      "explored BBCRadio3, found 5 new users, 0 totally new, 59413 total\n",
      "explored stevotower, found 50 new users, 0 totally new, 59413 total\n",
      "explored babeyou, found 20 new users, 0 totally new, 59413 total\n",
      "explored montzcasares, found 20 new users, 0 totally new, 59413 total\n",
      "explored NilByazgan, found 3 new users, 0 totally new, 59413 total\n",
      "explored Klodnyckyj, found 16 new users, 0 totally new, 59413 total\n",
      "explored kranenkrans, found 50 new users, 0 totally new, 59413 total\n",
      "explored philipnort, found 5 new users, 0 totally new, 59413 total\n",
      "explored chinsan, found 6 new users, 0 totally new, 59413 total\n",
      "explored Tbrowne1, found 48 new users, 0 totally new, 59413 total\n",
      "explored Hutchess28, found 6 new users, 0 totally new, 59413 total\n",
      "explored Desyman77, found 3 new users, 0 totally new, 59413 total\n",
      "explored Laurens_VM, found 50 new users, 0 totally new, 59413 total\n",
      "explored F_mck, found 10 new users, 0 totally new, 59413 total\n",
      "explored acararicin, found 25 new users, 1 totally new, 59414 total\n",
      "explored tbhamdg, found 6 new users, 0 totally new, 59414 total\n",
      "explored PilsRobs, found 0 new users, 0 totally new, 59414 total\n",
      "explored antoniolg, found 3 new users, 0 totally new, 59414 total\n",
      "explored Thewoolpalace, found 32 new users, 0 totally new, 59414 total\n",
      "explored modruleok1, found 35 new users, 0 totally new, 59414 total\n",
      "explored Selment1, found 7 new users, 0 totally new, 59414 total\n",
      "explored ikmacbeth, found 49 new users, 0 totally new, 59414 total\n",
      "explored mozartschild, found 19 new users, 15 totally new, 59429 total\n",
      "explored donernando, found 2 new users, 0 totally new, 59429 total\n",
      "explored parishna, found 10 new users, 0 totally new, 59429 total\n",
      "explored park13, found 50 new users, 0 totally new, 59429 total\n",
      "explored swzhang, found 50 new users, 1 totally new, 59430 total\n",
      "explored NocturnusBlues, found 21 new users, 0 totally new, 59430 total\n",
      "explored muntoo, found 14 new users, 0 totally new, 59430 total\n",
      "explored dox_drum, found 5 new users, 1 totally new, 59431 total\n",
      "explored Absolutismmmm, found 2 new users, 0 totally new, 59431 total\n",
      "explored Victoriagtoney, found 27 new users, 1 totally new, 59432 total\n",
      "explored Goldahhh, found 20 new users, 1 totally new, 59433 total\n",
      "explored eljefebolivia19, found 50 new users, 0 totally new, 59433 total\n",
      "explored Zer0boros, found 1 new users, 0 totally new, 59433 total\n",
      "explored MFB1980, found 0 new users, 0 totally new, 59433 total\n",
      "explored trixiedog, found 50 new users, 0 totally new, 59433 total\n",
      "explored Ellemathews99, found 2 new users, 0 totally new, 59433 total\n",
      "explored sttrepitoso, found 9 new users, 1 totally new, 59434 total\n",
      "explored LordNoot, found 46 new users, 0 totally new, 59434 total\n",
      "explored Benjikmg, found 49 new users, 0 totally new, 59434 total\n",
      "explored shmrt, found 50 new users, 0 totally new, 59434 total\n",
      "explored lamborgini15, found 50 new users, 0 totally new, 59434 total\n",
      "explored VicRanselmo, found 50 new users, 0 totally new, 59434 total\n",
      "explored Stryjpepin, found 49 new users, 0 totally new, 59434 total\n",
      "explored luizasarkis, found 44 new users, 0 totally new, 59434 total\n",
      "explored JustSwagus, found 40 new users, 0 totally new, 59434 total\n",
      "explored anaydave, found 49 new users, 2 totally new, 59436 total\n",
      "explored FestiveInvader, found 28 new users, 0 totally new, 59436 total\n",
      "explored CosminOchea, found 35 new users, 1 totally new, 59437 total\n",
      "explored yedisenelik, found 43 new users, 0 totally new, 59437 total\n",
      "explored Soa2005, found 48 new users, 10 totally new, 59447 total\n",
      "explored Tom-Tyron, found 49 new users, 2 totally new, 59449 total\n",
      "explored AT0MlCPUNK, found 32 new users, 0 totally new, 59449 total\n",
      "explored manoelstilpen, found 50 new users, 7 totally new, 59456 total\n",
      "explored Leatherxwings, found 50 new users, 1 totally new, 59457 total\n",
      "explored mickknife, found 49 new users, 1 totally new, 59458 total\n",
      "explored TwistedTimm, found 42 new users, 1 totally new, 59459 total\n",
      "explored Ammrass, found 50 new users, 0 totally new, 59459 total\n",
      "explored Gr3g0rr, found 50 new users, 0 totally new, 59459 total\n",
      "explored alinerezuto66, found 43 new users, 0 totally new, 59459 total\n",
      "explored tonewhy, found 49 new users, 3 totally new, 59462 total\n",
      "explored coastrum, found 44 new users, 0 totally new, 59462 total\n",
      "explored studzienka, found 49 new users, 0 totally new, 59462 total\n",
      "explored robsbigfish, found 50 new users, 0 totally new, 59462 total\n",
      "explored hurpington, found 50 new users, 1 totally new, 59463 total\n",
      "explored andreconti_, found 41 new users, 0 totally new, 59463 total\n",
      "explored sherlord, found 50 new users, 6 totally new, 59469 total\n",
      "explored mrz2003, found 50 new users, 3 totally new, 59472 total\n",
      "explored Blobthe15, found 48 new users, 0 totally new, 59472 total\n",
      "explored sakuyan, found 50 new users, 0 totally new, 59472 total\n",
      "explored Tim_55, found 37 new users, 0 totally new, 59472 total\n",
      "explored Levvvy, found 38 new users, 0 totally new, 59472 total\n",
      "explored Frantoast, found 50 new users, 0 totally new, 59472 total\n",
      "explored eric13__, found 50 new users, 0 totally new, 59472 total\n",
      "explored NotRealFran, found 41 new users, 0 totally new, 59472 total\n",
      "explored Mexorr, found 50 new users, 41 totally new, 59513 total\n",
      "explored xxBonesxx, found 47 new users, 0 totally new, 59513 total\n",
      "explored Dejw1, found 48 new users, 3 totally new, 59516 total\n",
      "explored thenbhdvause_, found 48 new users, 3 totally new, 59519 total\n",
      "explored DanTheGamer, found 43 new users, 0 totally new, 59519 total\n",
      "explored mnys_4, found 41 new users, 0 totally new, 59519 total\n",
      "explored myowo, found 49 new users, 0 totally new, 59519 total\n",
      "explored Synabon, found 50 new users, 1 totally new, 59520 total\n",
      "explored Sgloober1, found 40 new users, 2 totally new, 59522 total\n",
      "explored analidior, found 26 new users, 0 totally new, 59522 total\n",
      "explored Aguynexttoyou, found 43 new users, 6 totally new, 59528 total\n",
      "explored ChloChloChloe4, found 33 new users, 10 totally new, 59538 total\n",
      "explored walala0007, found 50 new users, 2 totally new, 59540 total\n",
      "explored Yastrzemski, found 50 new users, 0 totally new, 59540 total\n",
      "explored Gabedon13, found 49 new users, 1 totally new, 59541 total\n",
      "explored headphonesMF, found 49 new users, 0 totally new, 59541 total\n",
      "explored rhubub, found 50 new users, 1 totally new, 59542 total\n",
      "explored BongusJim, found 29 new users, 2 totally new, 59544 total\n",
      "explored Sufferando, found 42 new users, 0 totally new, 59544 total\n",
      "explored Jerryatic, found 38 new users, 0 totally new, 59544 total\n",
      "explored Arphen_Gryolin, found 50 new users, 0 totally new, 59544 total\n",
      "explored jjjaycee, found 41 new users, 1 totally new, 59545 total\n",
      "explored sandikulenovic, found 50 new users, 0 totally new, 59545 total\n",
      "explored haawkin, found 48 new users, 1 totally new, 59546 total\n",
      "explored yathosho, found 48 new users, 13 totally new, 59559 total\n",
      "explored annushkav, found 48 new users, 0 totally new, 59559 total\n",
      "explored zerosyntax, found 49 new users, 0 totally new, 59559 total\n",
      "explored coldoolong, found 50 new users, 0 totally new, 59559 total\n",
      "explored hdoddity, found 46 new users, 3 totally new, 59562 total\n",
      "explored CRAZYWORM420, found 46 new users, 0 totally new, 59562 total\n",
      "explored Mekrol, found 49 new users, 2 totally new, 59564 total\n",
      "explored j_berd, found 50 new users, 0 totally new, 59564 total\n",
      "explored mago_nero, found 45 new users, 0 totally new, 59564 total\n",
      "explored machestar, found 50 new users, 11 totally new, 59575 total\n",
      "explored thefolksong, found 36 new users, 0 totally new, 59575 total\n",
      "explored Trotskista, found 49 new users, 0 totally new, 59575 total\n",
      "explored rbpedersen, found 41 new users, 0 totally new, 59575 total\n",
      "explored numbingtea, found 43 new users, 0 totally new, 59575 total\n",
      "explored hypn0toad5, found 48 new users, 1 totally new, 59576 total\n",
      "explored hexenszene, found 49 new users, 4 totally new, 59580 total\n",
      "explored AwpData, found 40 new users, 2 totally new, 59582 total\n",
      "explored zsazs, found 50 new users, 0 totally new, 59582 total\n",
      "explored CrunchyJake, found 46 new users, 0 totally new, 59582 total\n",
      "explored marxizm-, found 50 new users, 0 totally new, 59582 total\n",
      "explored jackie7787, found 46 new users, 2 totally new, 59584 total\n",
      "explored AndreDenji, found 50 new users, 0 totally new, 59584 total\n",
      "explored Osh_Kosh, found 48 new users, 0 totally new, 59584 total\n",
      "explored bobbysobby, found 33 new users, 0 totally new, 59584 total\n",
      "explored thecomentr, found 34 new users, 4 totally new, 59588 total\n",
      "explored BigO_, found 47 new users, 4 totally new, 59592 total\n",
      "explored parttimerabbi, found 50 new users, 1 totally new, 59593 total\n",
      "explored Not_a_tumbler, found 32 new users, 11 totally new, 59604 total\n",
      "explored fitzpisces, found 50 new users, 0 totally new, 59604 total\n",
      "explored Yasukeeeh12, found 29 new users, 0 totally new, 59604 total\n",
      "explored Yasuuukeh13, found 5 new users, 0 totally new, 59604 total\n",
      "explored Lastfmarelo123, found 0 new users, 0 totally new, 59604 total\n",
      "explored lastfmarelo1234, found 2 new users, 0 totally new, 59604 total\n",
      "explored scv1223, found 36 new users, 0 totally new, 59604 total\n",
      "explored Josiney662, found 0 new users, 0 totally new, 59604 total\n",
      "explored lastfmbranco, found 3 new users, 0 totally new, 59604 total\n",
      "explored roxolastfm, found 2 new users, 0 totally new, 59604 total\n",
      "explored Yasuke1337, found 0 new users, 0 totally new, 59604 total\n",
      "explored Yasukesooon, found 2 new users, 0 totally new, 59604 total\n",
      "explored mopo3ilo, found 49 new users, 0 totally new, 59604 total\n",
      "explored nikhilde, found 47 new users, 2 totally new, 59606 total\n",
      "explored SetTsith, found 19 new users, 0 totally new, 59606 total\n",
      "explored dimitriosmois, found 46 new users, 0 totally new, 59606 total\n",
      "explored Paradisebeyond, found 9 new users, 0 totally new, 59606 total\n",
      "explored darkmusic_, found 6 new users, 0 totally new, 59606 total\n",
      "explored failedutopia, found 11 new users, 0 totally new, 59606 total\n",
      "explored josephmaynes, found 35 new users, 0 totally new, 59606 total\n",
      "explored ilovetosayfuck_, found 19 new users, 0 totally new, 59606 total\n",
      "explored Lyserg1a, found 7 new users, 0 totally new, 59606 total\n",
      "explored valkovzelnet, found 33 new users, 0 totally new, 59606 total\n",
      "explored roboc22, found 35 new users, 0 totally new, 59606 total\n",
      "explored rudykarton, found 43 new users, 24 totally new, 59630 total\n",
      "explored kenkeenan, found 45 new users, 0 totally new, 59630 total\n",
      "explored Yerust, found 4 new users, 0 totally new, 59630 total\n",
      "explored naplimak, found 8 new users, 0 totally new, 59630 total\n",
      "explored mmilne955, found 42 new users, 13 totally new, 59643 total\n",
      "explored Diabonix, found 12 new users, 0 totally new, 59643 total\n",
      "explored omason, found 12 new users, 1 totally new, 59644 total\n",
      "explored kuningatarprins, found 1 new users, 0 totally new, 59644 total\n",
      "explored Draxerra, found 10 new users, 0 totally new, 59644 total\n",
      "explored HdgpQNLi, found 39 new users, 0 totally new, 59644 total\n",
      "explored seekerlight, found 5 new users, 0 totally new, 59644 total\n",
      "explored Hoveringdog, found 3 new users, 0 totally new, 59644 total\n",
      "explored M_Spawn, found 2 new users, 0 totally new, 59644 total\n",
      "explored AterExsilium, found 20 new users, 0 totally new, 59644 total\n",
      "explored Ater_Exsilium, found 2 new users, 0 totally new, 59644 total\n",
      "explored Melamoto, found 3 new users, 0 totally new, 59644 total\n",
      "explored JKIS, found 46 new users, 31 totally new, 59675 total\n"
     ]
    },
    {
     "ename": "KeyboardInterrupt",
     "evalue": "",
     "output_type": "error",
     "traceback": [
      "\u001b[1;31m---------------------------------------------------------------------------\u001b[0m",
      "\u001b[1;31mKeyboardInterrupt\u001b[0m                         Traceback (most recent call last)",
      "\u001b[1;32m<ipython-input-14-71ed3e8d709a>\u001b[0m in \u001b[0;36m<module>\u001b[1;34m\u001b[0m\n\u001b[0;32m      4\u001b[0m     \u001b[0mexplored\u001b[0m \u001b[1;33m=\u001b[0m \u001b[0mnp\u001b[0m\u001b[1;33m.\u001b[0m\u001b[0mappend\u001b[0m\u001b[1;33m(\u001b[0m\u001b[0mexplored\u001b[0m\u001b[1;33m,\u001b[0m \u001b[0mcurruser\u001b[0m\u001b[1;33m)\u001b[0m\u001b[1;33m\u001b[0m\u001b[1;33m\u001b[0m\u001b[0m\n\u001b[0;32m      5\u001b[0m \u001b[1;33m\u001b[0m\u001b[0m\n\u001b[1;32m----> 6\u001b[1;33m     \u001b[0mneighs\u001b[0m \u001b[1;33m=\u001b[0m \u001b[0mgetneighbors\u001b[0m\u001b[1;33m(\u001b[0m\u001b[0mcurruser\u001b[0m\u001b[1;33m)\u001b[0m\u001b[1;33m\u001b[0m\u001b[1;33m\u001b[0m\u001b[0m\n\u001b[0m\u001b[0;32m      7\u001b[0m     \u001b[0mprevlen\u001b[0m \u001b[1;33m=\u001b[0m \u001b[0mlen\u001b[0m\u001b[1;33m(\u001b[0m\u001b[0muserset\u001b[0m\u001b[1;33m)\u001b[0m\u001b[1;33m\u001b[0m\u001b[1;33m\u001b[0m\u001b[0m\n\u001b[0;32m      8\u001b[0m     \u001b[0muserset\u001b[0m \u001b[1;33m=\u001b[0m \u001b[0muserset\u001b[0m\u001b[1;33m.\u001b[0m\u001b[0munion\u001b[0m\u001b[1;33m(\u001b[0m\u001b[0mneighs\u001b[0m\u001b[1;33m)\u001b[0m\u001b[1;33m\u001b[0m\u001b[1;33m\u001b[0m\u001b[0m\n",
      "\u001b[1;32m<ipython-input-6-c464c0b98dd2>\u001b[0m in \u001b[0;36mgetneighbors\u001b[1;34m(username)\u001b[0m\n\u001b[0;32m      1\u001b[0m \u001b[1;32mdef\u001b[0m \u001b[0mgetneighbors\u001b[0m\u001b[1;33m(\u001b[0m\u001b[0musername\u001b[0m\u001b[1;33m)\u001b[0m\u001b[1;33m:\u001b[0m\u001b[1;33m\u001b[0m\u001b[1;33m\u001b[0m\u001b[0m\n\u001b[0;32m      2\u001b[0m     \u001b[0murl\u001b[0m \u001b[1;33m=\u001b[0m \u001b[1;34mf\"https://www.last.fm/user/{username}/neighbours\"\u001b[0m\u001b[1;33m\u001b[0m\u001b[1;33m\u001b[0m\u001b[0m\n\u001b[1;32m----> 3\u001b[1;33m     \u001b[0mresp\u001b[0m \u001b[1;33m=\u001b[0m \u001b[0mrequests\u001b[0m\u001b[1;33m.\u001b[0m\u001b[0mget\u001b[0m\u001b[1;33m(\u001b[0m\u001b[0murl\u001b[0m\u001b[1;33m)\u001b[0m\u001b[1;33m\u001b[0m\u001b[1;33m\u001b[0m\u001b[0m\n\u001b[0m\u001b[0;32m      4\u001b[0m     \u001b[1;32mif\u001b[0m \u001b[0mresp\u001b[0m\u001b[1;33m.\u001b[0m\u001b[0mstatus_code\u001b[0m\u001b[1;33m==\u001b[0m\u001b[1;36m200\u001b[0m\u001b[1;33m:\u001b[0m\u001b[1;33m\u001b[0m\u001b[1;33m\u001b[0m\u001b[0m\n\u001b[0;32m      5\u001b[0m         \u001b[0msoup\u001b[0m \u001b[1;33m=\u001b[0m \u001b[0mBeautifulSoup\u001b[0m\u001b[1;33m(\u001b[0m\u001b[0mresp\u001b[0m\u001b[1;33m.\u001b[0m\u001b[0mtext\u001b[0m\u001b[1;33m,\u001b[0m \u001b[1;34m'html.parser'\u001b[0m\u001b[1;33m)\u001b[0m\u001b[1;33m\u001b[0m\u001b[1;33m\u001b[0m\u001b[0m\n",
      "\u001b[1;32m~\\anaconda3\\lib\\site-packages\\requests\\api.py\u001b[0m in \u001b[0;36mget\u001b[1;34m(url, params, **kwargs)\u001b[0m\n\u001b[0;32m     74\u001b[0m \u001b[1;33m\u001b[0m\u001b[0m\n\u001b[0;32m     75\u001b[0m     \u001b[0mkwargs\u001b[0m\u001b[1;33m.\u001b[0m\u001b[0msetdefault\u001b[0m\u001b[1;33m(\u001b[0m\u001b[1;34m'allow_redirects'\u001b[0m\u001b[1;33m,\u001b[0m \u001b[1;32mTrue\u001b[0m\u001b[1;33m)\u001b[0m\u001b[1;33m\u001b[0m\u001b[1;33m\u001b[0m\u001b[0m\n\u001b[1;32m---> 76\u001b[1;33m     \u001b[1;32mreturn\u001b[0m \u001b[0mrequest\u001b[0m\u001b[1;33m(\u001b[0m\u001b[1;34m'get'\u001b[0m\u001b[1;33m,\u001b[0m \u001b[0murl\u001b[0m\u001b[1;33m,\u001b[0m \u001b[0mparams\u001b[0m\u001b[1;33m=\u001b[0m\u001b[0mparams\u001b[0m\u001b[1;33m,\u001b[0m \u001b[1;33m**\u001b[0m\u001b[0mkwargs\u001b[0m\u001b[1;33m)\u001b[0m\u001b[1;33m\u001b[0m\u001b[1;33m\u001b[0m\u001b[0m\n\u001b[0m\u001b[0;32m     77\u001b[0m \u001b[1;33m\u001b[0m\u001b[0m\n\u001b[0;32m     78\u001b[0m \u001b[1;33m\u001b[0m\u001b[0m\n",
      "\u001b[1;32m~\\anaconda3\\lib\\site-packages\\requests\\api.py\u001b[0m in \u001b[0;36mrequest\u001b[1;34m(method, url, **kwargs)\u001b[0m\n\u001b[0;32m     59\u001b[0m     \u001b[1;31m# cases, and look like a memory leak in others.\u001b[0m\u001b[1;33m\u001b[0m\u001b[1;33m\u001b[0m\u001b[1;33m\u001b[0m\u001b[0m\n\u001b[0;32m     60\u001b[0m     \u001b[1;32mwith\u001b[0m \u001b[0msessions\u001b[0m\u001b[1;33m.\u001b[0m\u001b[0mSession\u001b[0m\u001b[1;33m(\u001b[0m\u001b[1;33m)\u001b[0m \u001b[1;32mas\u001b[0m \u001b[0msession\u001b[0m\u001b[1;33m:\u001b[0m\u001b[1;33m\u001b[0m\u001b[1;33m\u001b[0m\u001b[0m\n\u001b[1;32m---> 61\u001b[1;33m         \u001b[1;32mreturn\u001b[0m \u001b[0msession\u001b[0m\u001b[1;33m.\u001b[0m\u001b[0mrequest\u001b[0m\u001b[1;33m(\u001b[0m\u001b[0mmethod\u001b[0m\u001b[1;33m=\u001b[0m\u001b[0mmethod\u001b[0m\u001b[1;33m,\u001b[0m \u001b[0murl\u001b[0m\u001b[1;33m=\u001b[0m\u001b[0murl\u001b[0m\u001b[1;33m,\u001b[0m \u001b[1;33m**\u001b[0m\u001b[0mkwargs\u001b[0m\u001b[1;33m)\u001b[0m\u001b[1;33m\u001b[0m\u001b[1;33m\u001b[0m\u001b[0m\n\u001b[0m\u001b[0;32m     62\u001b[0m \u001b[1;33m\u001b[0m\u001b[0m\n\u001b[0;32m     63\u001b[0m \u001b[1;33m\u001b[0m\u001b[0m\n",
      "\u001b[1;32m~\\anaconda3\\lib\\site-packages\\requests\\sessions.py\u001b[0m in \u001b[0;36mrequest\u001b[1;34m(self, method, url, params, data, headers, cookies, files, auth, timeout, allow_redirects, proxies, hooks, stream, verify, cert, json)\u001b[0m\n\u001b[0;32m    540\u001b[0m         }\n\u001b[0;32m    541\u001b[0m         \u001b[0msend_kwargs\u001b[0m\u001b[1;33m.\u001b[0m\u001b[0mupdate\u001b[0m\u001b[1;33m(\u001b[0m\u001b[0msettings\u001b[0m\u001b[1;33m)\u001b[0m\u001b[1;33m\u001b[0m\u001b[1;33m\u001b[0m\u001b[0m\n\u001b[1;32m--> 542\u001b[1;33m         \u001b[0mresp\u001b[0m \u001b[1;33m=\u001b[0m \u001b[0mself\u001b[0m\u001b[1;33m.\u001b[0m\u001b[0msend\u001b[0m\u001b[1;33m(\u001b[0m\u001b[0mprep\u001b[0m\u001b[1;33m,\u001b[0m \u001b[1;33m**\u001b[0m\u001b[0msend_kwargs\u001b[0m\u001b[1;33m)\u001b[0m\u001b[1;33m\u001b[0m\u001b[1;33m\u001b[0m\u001b[0m\n\u001b[0m\u001b[0;32m    543\u001b[0m \u001b[1;33m\u001b[0m\u001b[0m\n\u001b[0;32m    544\u001b[0m         \u001b[1;32mreturn\u001b[0m \u001b[0mresp\u001b[0m\u001b[1;33m\u001b[0m\u001b[1;33m\u001b[0m\u001b[0m\n",
      "\u001b[1;32m~\\anaconda3\\lib\\site-packages\\requests\\sessions.py\u001b[0m in \u001b[0;36msend\u001b[1;34m(self, request, **kwargs)\u001b[0m\n\u001b[0;32m    653\u001b[0m \u001b[1;33m\u001b[0m\u001b[0m\n\u001b[0;32m    654\u001b[0m         \u001b[1;31m# Send the request\u001b[0m\u001b[1;33m\u001b[0m\u001b[1;33m\u001b[0m\u001b[1;33m\u001b[0m\u001b[0m\n\u001b[1;32m--> 655\u001b[1;33m         \u001b[0mr\u001b[0m \u001b[1;33m=\u001b[0m \u001b[0madapter\u001b[0m\u001b[1;33m.\u001b[0m\u001b[0msend\u001b[0m\u001b[1;33m(\u001b[0m\u001b[0mrequest\u001b[0m\u001b[1;33m,\u001b[0m \u001b[1;33m**\u001b[0m\u001b[0mkwargs\u001b[0m\u001b[1;33m)\u001b[0m\u001b[1;33m\u001b[0m\u001b[1;33m\u001b[0m\u001b[0m\n\u001b[0m\u001b[0;32m    656\u001b[0m \u001b[1;33m\u001b[0m\u001b[0m\n\u001b[0;32m    657\u001b[0m         \u001b[1;31m# Total elapsed time of the request (approximately)\u001b[0m\u001b[1;33m\u001b[0m\u001b[1;33m\u001b[0m\u001b[1;33m\u001b[0m\u001b[0m\n",
      "\u001b[1;32m~\\anaconda3\\lib\\site-packages\\requests\\adapters.py\u001b[0m in \u001b[0;36msend\u001b[1;34m(self, request, stream, timeout, verify, cert, proxies)\u001b[0m\n\u001b[0;32m    437\u001b[0m         \u001b[1;32mtry\u001b[0m\u001b[1;33m:\u001b[0m\u001b[1;33m\u001b[0m\u001b[1;33m\u001b[0m\u001b[0m\n\u001b[0;32m    438\u001b[0m             \u001b[1;32mif\u001b[0m \u001b[1;32mnot\u001b[0m \u001b[0mchunked\u001b[0m\u001b[1;33m:\u001b[0m\u001b[1;33m\u001b[0m\u001b[1;33m\u001b[0m\u001b[0m\n\u001b[1;32m--> 439\u001b[1;33m                 resp = conn.urlopen(\n\u001b[0m\u001b[0;32m    440\u001b[0m                     \u001b[0mmethod\u001b[0m\u001b[1;33m=\u001b[0m\u001b[0mrequest\u001b[0m\u001b[1;33m.\u001b[0m\u001b[0mmethod\u001b[0m\u001b[1;33m,\u001b[0m\u001b[1;33m\u001b[0m\u001b[1;33m\u001b[0m\u001b[0m\n\u001b[0;32m    441\u001b[0m                     \u001b[0murl\u001b[0m\u001b[1;33m=\u001b[0m\u001b[0murl\u001b[0m\u001b[1;33m,\u001b[0m\u001b[1;33m\u001b[0m\u001b[1;33m\u001b[0m\u001b[0m\n",
      "\u001b[1;32m~\\anaconda3\\lib\\site-packages\\urllib3\\connectionpool.py\u001b[0m in \u001b[0;36murlopen\u001b[1;34m(self, method, url, body, headers, retries, redirect, assert_same_host, timeout, pool_timeout, release_conn, chunked, body_pos, **response_kw)\u001b[0m\n\u001b[0;32m    697\u001b[0m \u001b[1;33m\u001b[0m\u001b[0m\n\u001b[0;32m    698\u001b[0m             \u001b[1;31m# Make the request on the httplib connection object.\u001b[0m\u001b[1;33m\u001b[0m\u001b[1;33m\u001b[0m\u001b[1;33m\u001b[0m\u001b[0m\n\u001b[1;32m--> 699\u001b[1;33m             httplib_response = self._make_request(\n\u001b[0m\u001b[0;32m    700\u001b[0m                 \u001b[0mconn\u001b[0m\u001b[1;33m,\u001b[0m\u001b[1;33m\u001b[0m\u001b[1;33m\u001b[0m\u001b[0m\n\u001b[0;32m    701\u001b[0m                 \u001b[0mmethod\u001b[0m\u001b[1;33m,\u001b[0m\u001b[1;33m\u001b[0m\u001b[1;33m\u001b[0m\u001b[0m\n",
      "\u001b[1;32m~\\anaconda3\\lib\\site-packages\\urllib3\\connectionpool.py\u001b[0m in \u001b[0;36m_make_request\u001b[1;34m(self, conn, method, url, timeout, chunked, **httplib_request_kw)\u001b[0m\n\u001b[0;32m    443\u001b[0m                     \u001b[1;31m# Python 3 (including for exceptions like SystemExit).\u001b[0m\u001b[1;33m\u001b[0m\u001b[1;33m\u001b[0m\u001b[1;33m\u001b[0m\u001b[0m\n\u001b[0;32m    444\u001b[0m                     \u001b[1;31m# Otherwise it looks like a bug in the code.\u001b[0m\u001b[1;33m\u001b[0m\u001b[1;33m\u001b[0m\u001b[1;33m\u001b[0m\u001b[0m\n\u001b[1;32m--> 445\u001b[1;33m                     \u001b[0msix\u001b[0m\u001b[1;33m.\u001b[0m\u001b[0mraise_from\u001b[0m\u001b[1;33m(\u001b[0m\u001b[0me\u001b[0m\u001b[1;33m,\u001b[0m \u001b[1;32mNone\u001b[0m\u001b[1;33m)\u001b[0m\u001b[1;33m\u001b[0m\u001b[1;33m\u001b[0m\u001b[0m\n\u001b[0m\u001b[0;32m    446\u001b[0m         \u001b[1;32mexcept\u001b[0m \u001b[1;33m(\u001b[0m\u001b[0mSocketTimeout\u001b[0m\u001b[1;33m,\u001b[0m \u001b[0mBaseSSLError\u001b[0m\u001b[1;33m,\u001b[0m \u001b[0mSocketError\u001b[0m\u001b[1;33m)\u001b[0m \u001b[1;32mas\u001b[0m \u001b[0me\u001b[0m\u001b[1;33m:\u001b[0m\u001b[1;33m\u001b[0m\u001b[1;33m\u001b[0m\u001b[0m\n\u001b[0;32m    447\u001b[0m             \u001b[0mself\u001b[0m\u001b[1;33m.\u001b[0m\u001b[0m_raise_timeout\u001b[0m\u001b[1;33m(\u001b[0m\u001b[0merr\u001b[0m\u001b[1;33m=\u001b[0m\u001b[0me\u001b[0m\u001b[1;33m,\u001b[0m \u001b[0murl\u001b[0m\u001b[1;33m=\u001b[0m\u001b[0murl\u001b[0m\u001b[1;33m,\u001b[0m \u001b[0mtimeout_value\u001b[0m\u001b[1;33m=\u001b[0m\u001b[0mread_timeout\u001b[0m\u001b[1;33m)\u001b[0m\u001b[1;33m\u001b[0m\u001b[1;33m\u001b[0m\u001b[0m\n",
      "\u001b[1;32m~\\anaconda3\\lib\\site-packages\\urllib3\\packages\\six.py\u001b[0m in \u001b[0;36mraise_from\u001b[1;34m(value, from_value)\u001b[0m\n",
      "\u001b[1;32m~\\anaconda3\\lib\\site-packages\\urllib3\\connectionpool.py\u001b[0m in \u001b[0;36m_make_request\u001b[1;34m(self, conn, method, url, timeout, chunked, **httplib_request_kw)\u001b[0m\n\u001b[0;32m    438\u001b[0m                 \u001b[1;31m# Python 3\u001b[0m\u001b[1;33m\u001b[0m\u001b[1;33m\u001b[0m\u001b[1;33m\u001b[0m\u001b[0m\n\u001b[0;32m    439\u001b[0m                 \u001b[1;32mtry\u001b[0m\u001b[1;33m:\u001b[0m\u001b[1;33m\u001b[0m\u001b[1;33m\u001b[0m\u001b[0m\n\u001b[1;32m--> 440\u001b[1;33m                     \u001b[0mhttplib_response\u001b[0m \u001b[1;33m=\u001b[0m \u001b[0mconn\u001b[0m\u001b[1;33m.\u001b[0m\u001b[0mgetresponse\u001b[0m\u001b[1;33m(\u001b[0m\u001b[1;33m)\u001b[0m\u001b[1;33m\u001b[0m\u001b[1;33m\u001b[0m\u001b[0m\n\u001b[0m\u001b[0;32m    441\u001b[0m                 \u001b[1;32mexcept\u001b[0m \u001b[0mBaseException\u001b[0m \u001b[1;32mas\u001b[0m \u001b[0me\u001b[0m\u001b[1;33m:\u001b[0m\u001b[1;33m\u001b[0m\u001b[1;33m\u001b[0m\u001b[0m\n\u001b[0;32m    442\u001b[0m                     \u001b[1;31m# Remove the TypeError from the exception chain in\u001b[0m\u001b[1;33m\u001b[0m\u001b[1;33m\u001b[0m\u001b[1;33m\u001b[0m\u001b[0m\n",
      "\u001b[1;32m~\\anaconda3\\lib\\http\\client.py\u001b[0m in \u001b[0;36mgetresponse\u001b[1;34m(self)\u001b[0m\n\u001b[0;32m   1345\u001b[0m         \u001b[1;32mtry\u001b[0m\u001b[1;33m:\u001b[0m\u001b[1;33m\u001b[0m\u001b[1;33m\u001b[0m\u001b[0m\n\u001b[0;32m   1346\u001b[0m             \u001b[1;32mtry\u001b[0m\u001b[1;33m:\u001b[0m\u001b[1;33m\u001b[0m\u001b[1;33m\u001b[0m\u001b[0m\n\u001b[1;32m-> 1347\u001b[1;33m                 \u001b[0mresponse\u001b[0m\u001b[1;33m.\u001b[0m\u001b[0mbegin\u001b[0m\u001b[1;33m(\u001b[0m\u001b[1;33m)\u001b[0m\u001b[1;33m\u001b[0m\u001b[1;33m\u001b[0m\u001b[0m\n\u001b[0m\u001b[0;32m   1348\u001b[0m             \u001b[1;32mexcept\u001b[0m \u001b[0mConnectionError\u001b[0m\u001b[1;33m:\u001b[0m\u001b[1;33m\u001b[0m\u001b[1;33m\u001b[0m\u001b[0m\n\u001b[0;32m   1349\u001b[0m                 \u001b[0mself\u001b[0m\u001b[1;33m.\u001b[0m\u001b[0mclose\u001b[0m\u001b[1;33m(\u001b[0m\u001b[1;33m)\u001b[0m\u001b[1;33m\u001b[0m\u001b[1;33m\u001b[0m\u001b[0m\n",
      "\u001b[1;32m~\\anaconda3\\lib\\http\\client.py\u001b[0m in \u001b[0;36mbegin\u001b[1;34m(self)\u001b[0m\n\u001b[0;32m    305\u001b[0m         \u001b[1;31m# read until we get a non-100 response\u001b[0m\u001b[1;33m\u001b[0m\u001b[1;33m\u001b[0m\u001b[1;33m\u001b[0m\u001b[0m\n\u001b[0;32m    306\u001b[0m         \u001b[1;32mwhile\u001b[0m \u001b[1;32mTrue\u001b[0m\u001b[1;33m:\u001b[0m\u001b[1;33m\u001b[0m\u001b[1;33m\u001b[0m\u001b[0m\n\u001b[1;32m--> 307\u001b[1;33m             \u001b[0mversion\u001b[0m\u001b[1;33m,\u001b[0m \u001b[0mstatus\u001b[0m\u001b[1;33m,\u001b[0m \u001b[0mreason\u001b[0m \u001b[1;33m=\u001b[0m \u001b[0mself\u001b[0m\u001b[1;33m.\u001b[0m\u001b[0m_read_status\u001b[0m\u001b[1;33m(\u001b[0m\u001b[1;33m)\u001b[0m\u001b[1;33m\u001b[0m\u001b[1;33m\u001b[0m\u001b[0m\n\u001b[0m\u001b[0;32m    308\u001b[0m             \u001b[1;32mif\u001b[0m \u001b[0mstatus\u001b[0m \u001b[1;33m!=\u001b[0m \u001b[0mCONTINUE\u001b[0m\u001b[1;33m:\u001b[0m\u001b[1;33m\u001b[0m\u001b[1;33m\u001b[0m\u001b[0m\n\u001b[0;32m    309\u001b[0m                 \u001b[1;32mbreak\u001b[0m\u001b[1;33m\u001b[0m\u001b[1;33m\u001b[0m\u001b[0m\n",
      "\u001b[1;32m~\\anaconda3\\lib\\http\\client.py\u001b[0m in \u001b[0;36m_read_status\u001b[1;34m(self)\u001b[0m\n\u001b[0;32m    266\u001b[0m \u001b[1;33m\u001b[0m\u001b[0m\n\u001b[0;32m    267\u001b[0m     \u001b[1;32mdef\u001b[0m \u001b[0m_read_status\u001b[0m\u001b[1;33m(\u001b[0m\u001b[0mself\u001b[0m\u001b[1;33m)\u001b[0m\u001b[1;33m:\u001b[0m\u001b[1;33m\u001b[0m\u001b[1;33m\u001b[0m\u001b[0m\n\u001b[1;32m--> 268\u001b[1;33m         \u001b[0mline\u001b[0m \u001b[1;33m=\u001b[0m \u001b[0mstr\u001b[0m\u001b[1;33m(\u001b[0m\u001b[0mself\u001b[0m\u001b[1;33m.\u001b[0m\u001b[0mfp\u001b[0m\u001b[1;33m.\u001b[0m\u001b[0mreadline\u001b[0m\u001b[1;33m(\u001b[0m\u001b[0m_MAXLINE\u001b[0m \u001b[1;33m+\u001b[0m \u001b[1;36m1\u001b[0m\u001b[1;33m)\u001b[0m\u001b[1;33m,\u001b[0m \u001b[1;34m\"iso-8859-1\"\u001b[0m\u001b[1;33m)\u001b[0m\u001b[1;33m\u001b[0m\u001b[1;33m\u001b[0m\u001b[0m\n\u001b[0m\u001b[0;32m    269\u001b[0m         \u001b[1;32mif\u001b[0m \u001b[0mlen\u001b[0m\u001b[1;33m(\u001b[0m\u001b[0mline\u001b[0m\u001b[1;33m)\u001b[0m \u001b[1;33m>\u001b[0m \u001b[0m_MAXLINE\u001b[0m\u001b[1;33m:\u001b[0m\u001b[1;33m\u001b[0m\u001b[1;33m\u001b[0m\u001b[0m\n\u001b[0;32m    270\u001b[0m             \u001b[1;32mraise\u001b[0m \u001b[0mLineTooLong\u001b[0m\u001b[1;33m(\u001b[0m\u001b[1;34m\"status line\"\u001b[0m\u001b[1;33m)\u001b[0m\u001b[1;33m\u001b[0m\u001b[1;33m\u001b[0m\u001b[0m\n",
      "\u001b[1;32m~\\anaconda3\\lib\\socket.py\u001b[0m in \u001b[0;36mreadinto\u001b[1;34m(self, b)\u001b[0m\n\u001b[0;32m    667\u001b[0m         \u001b[1;32mwhile\u001b[0m \u001b[1;32mTrue\u001b[0m\u001b[1;33m:\u001b[0m\u001b[1;33m\u001b[0m\u001b[1;33m\u001b[0m\u001b[0m\n\u001b[0;32m    668\u001b[0m             \u001b[1;32mtry\u001b[0m\u001b[1;33m:\u001b[0m\u001b[1;33m\u001b[0m\u001b[1;33m\u001b[0m\u001b[0m\n\u001b[1;32m--> 669\u001b[1;33m                 \u001b[1;32mreturn\u001b[0m \u001b[0mself\u001b[0m\u001b[1;33m.\u001b[0m\u001b[0m_sock\u001b[0m\u001b[1;33m.\u001b[0m\u001b[0mrecv_into\u001b[0m\u001b[1;33m(\u001b[0m\u001b[0mb\u001b[0m\u001b[1;33m)\u001b[0m\u001b[1;33m\u001b[0m\u001b[1;33m\u001b[0m\u001b[0m\n\u001b[0m\u001b[0;32m    670\u001b[0m             \u001b[1;32mexcept\u001b[0m \u001b[0mtimeout\u001b[0m\u001b[1;33m:\u001b[0m\u001b[1;33m\u001b[0m\u001b[1;33m\u001b[0m\u001b[0m\n\u001b[0;32m    671\u001b[0m                 \u001b[0mself\u001b[0m\u001b[1;33m.\u001b[0m\u001b[0m_timeout_occurred\u001b[0m \u001b[1;33m=\u001b[0m \u001b[1;32mTrue\u001b[0m\u001b[1;33m\u001b[0m\u001b[1;33m\u001b[0m\u001b[0m\n",
      "\u001b[1;32m~\\anaconda3\\lib\\ssl.py\u001b[0m in \u001b[0;36mrecv_into\u001b[1;34m(self, buffer, nbytes, flags)\u001b[0m\n\u001b[0;32m   1239\u001b[0m                   \u001b[1;34m\"non-zero flags not allowed in calls to recv_into() on %s\"\u001b[0m \u001b[1;33m%\u001b[0m\u001b[1;33m\u001b[0m\u001b[1;33m\u001b[0m\u001b[0m\n\u001b[0;32m   1240\u001b[0m                   self.__class__)\n\u001b[1;32m-> 1241\u001b[1;33m             \u001b[1;32mreturn\u001b[0m \u001b[0mself\u001b[0m\u001b[1;33m.\u001b[0m\u001b[0mread\u001b[0m\u001b[1;33m(\u001b[0m\u001b[0mnbytes\u001b[0m\u001b[1;33m,\u001b[0m \u001b[0mbuffer\u001b[0m\u001b[1;33m)\u001b[0m\u001b[1;33m\u001b[0m\u001b[1;33m\u001b[0m\u001b[0m\n\u001b[0m\u001b[0;32m   1242\u001b[0m         \u001b[1;32melse\u001b[0m\u001b[1;33m:\u001b[0m\u001b[1;33m\u001b[0m\u001b[1;33m\u001b[0m\u001b[0m\n\u001b[0;32m   1243\u001b[0m             \u001b[1;32mreturn\u001b[0m \u001b[0msuper\u001b[0m\u001b[1;33m(\u001b[0m\u001b[1;33m)\u001b[0m\u001b[1;33m.\u001b[0m\u001b[0mrecv_into\u001b[0m\u001b[1;33m(\u001b[0m\u001b[0mbuffer\u001b[0m\u001b[1;33m,\u001b[0m \u001b[0mnbytes\u001b[0m\u001b[1;33m,\u001b[0m \u001b[0mflags\u001b[0m\u001b[1;33m)\u001b[0m\u001b[1;33m\u001b[0m\u001b[1;33m\u001b[0m\u001b[0m\n",
      "\u001b[1;32m~\\anaconda3\\lib\\ssl.py\u001b[0m in \u001b[0;36mread\u001b[1;34m(self, len, buffer)\u001b[0m\n\u001b[0;32m   1097\u001b[0m         \u001b[1;32mtry\u001b[0m\u001b[1;33m:\u001b[0m\u001b[1;33m\u001b[0m\u001b[1;33m\u001b[0m\u001b[0m\n\u001b[0;32m   1098\u001b[0m             \u001b[1;32mif\u001b[0m \u001b[0mbuffer\u001b[0m \u001b[1;32mis\u001b[0m \u001b[1;32mnot\u001b[0m \u001b[1;32mNone\u001b[0m\u001b[1;33m:\u001b[0m\u001b[1;33m\u001b[0m\u001b[1;33m\u001b[0m\u001b[0m\n\u001b[1;32m-> 1099\u001b[1;33m                 \u001b[1;32mreturn\u001b[0m \u001b[0mself\u001b[0m\u001b[1;33m.\u001b[0m\u001b[0m_sslobj\u001b[0m\u001b[1;33m.\u001b[0m\u001b[0mread\u001b[0m\u001b[1;33m(\u001b[0m\u001b[0mlen\u001b[0m\u001b[1;33m,\u001b[0m \u001b[0mbuffer\u001b[0m\u001b[1;33m)\u001b[0m\u001b[1;33m\u001b[0m\u001b[1;33m\u001b[0m\u001b[0m\n\u001b[0m\u001b[0;32m   1100\u001b[0m             \u001b[1;32melse\u001b[0m\u001b[1;33m:\u001b[0m\u001b[1;33m\u001b[0m\u001b[1;33m\u001b[0m\u001b[0m\n\u001b[0;32m   1101\u001b[0m                 \u001b[1;32mreturn\u001b[0m \u001b[0mself\u001b[0m\u001b[1;33m.\u001b[0m\u001b[0m_sslobj\u001b[0m\u001b[1;33m.\u001b[0m\u001b[0mread\u001b[0m\u001b[1;33m(\u001b[0m\u001b[0mlen\u001b[0m\u001b[1;33m)\u001b[0m\u001b[1;33m\u001b[0m\u001b[1;33m\u001b[0m\u001b[0m\n",
      "\u001b[1;31mKeyboardInterrupt\u001b[0m: "
     ]
    }
   ],
   "source": [
    "numnew10 = deque([11]) # number of new users added in the past 10 iterations\n",
    "while sum(numnew10) > 10  and len(searchstack) > 0:\n",
    "    curruser = searchstack.popleft()\n",
    "    if np.isin(curruser, explored):\n",
    "        continue\n",
    "    explored = np.append(explored, curruser)\n",
    "\n",
    "    neighs = getneighbors(curruser)\n",
    "    prevlen = len(userset)\n",
    "    userset = userset.union(neighs)\n",
    "    \n",
    "    # stoppage conditions\n",
    "    numnew10.append(len(userset) - prevlen)\n",
    "    if len(numnew10) > 10:\n",
    "        numnew10.popleft()\n",
    "        \n",
    "    # keeping track of overall additions\n",
    "    tot_prevlen = len(tot_userset)\n",
    "    tot_userset = tot_userset.union(userset)\n",
    "    print(f\"explored {curruser}, found {numnew10[-1]} new users, {len(tot_userset) - tot_prevlen} totally new, {len(tot_userset)} total\")\n",
    "    \n",
    "\n",
    "    edges = np.asarray([np.repeat(curruser, len(neighs)), neighs]).T\n",
    "    [newf.write(f\"{e[0]},{e[1]}\\n\") for e in edges]\n",
    "    [totf.write(f\"{e[0]},{e[1]}\\n\") for e in edges]\n",
    "    \n",
    "    searchstack.extend(neighs[~np.isin(neighs, explored)]) # get rid of already visited neighs, add rest to searchstack"
   ]
  },
  {
   "cell_type": "code",
   "execution_count": 15,
   "id": "8fb492f0-2593-44f0-accd-430977229b92",
   "metadata": {},
   "outputs": [],
   "source": [
    "totf.close()\n",
    "newf.close()"
   ]
  },
  {
   "cell_type": "markdown",
   "id": "b678a6ee-32a6-4722-bf02-67706529ca24",
   "metadata": {},
   "source": [
    "## bashdu"
   ]
  },
  {
   "cell_type": "code",
   "execution_count": 108,
   "id": "67a7e1c2-3ee1-4c20-8b89-946532ca303c",
   "metadata": {},
   "outputs": [],
   "source": [
    "year = pd.read_csv(\"./d2/listens_year_10k100.csv\")\n",
    "allt = pd.read_csv(\"./d2/listens_10k200.csv\")"
   ]
  },
  {
   "cell_type": "code",
   "execution_count": 112,
   "id": "37b33186-6b20-4663-9366-67647c88c100",
   "metadata": {},
   "outputs": [],
   "source": [
    "allt[[\"user_id\", \"artist_id\", \"scrobbles\"]].to_csv(\"./d2/lastfm_user_scrobbles_10k200_through2021.csv\")"
   ]
  }
 ],
 "metadata": {
  "kernelspec": {
   "display_name": "Python 3",
   "language": "python",
   "name": "python3"
  },
  "language_info": {
   "codemirror_mode": {
    "name": "ipython",
    "version": 3
   },
   "file_extension": ".py",
   "mimetype": "text/x-python",
   "name": "python",
   "nbconvert_exporter": "python",
   "pygments_lexer": "ipython3",
   "version": "3.8.8"
  }
 },
 "nbformat": 4,
 "nbformat_minor": 5
}

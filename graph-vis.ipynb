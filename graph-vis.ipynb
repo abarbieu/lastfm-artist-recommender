{
 "cells": [
  {
   "cell_type": "code",
   "execution_count": 114,
   "id": "e09d160d-a1d7-49a9-8108-5e05fb1c1f13",
   "metadata": {},
   "outputs": [],
   "source": [
    "import re\n",
    "import numpy as np\n",
    "import pandas as pd\n",
    "import matplotlib.pyplot as plt\n",
    "import time\n",
    "import requests"
   ]
  },
  {
   "cell_type": "code",
   "execution_count": null,
   "id": "c3555cf8-8085-4ed3-aa21-1664adcb012d",
   "metadata": {},
   "outputs": [],
   "source": [
    "datafile = \"./output/toplisteners_me.csv\"\n",
    "with open(datafile, 'r', encoding=\"utf-8\") as f:\n",
    "    lines = [[node for node in re.split('[,](?!\\s)',edge.strip('\\n'))[:2]] for edge in f.readlines() if edge[0][0] != '#']\n",
    "\n",
    "    topls = pd.DataFrame(lines, columns = [\"artist\", \"user\"])\n",
    "all_users = all_users.union(topls.user)"
   ]
  },
  {
   "cell_type": "code",
   "execution_count": 132,
   "id": "b00392ad-1845-464b-ab3d-057c16a03a14",
   "metadata": {
    "tags": []
   },
   "outputs": [],
   "source": [
    "my_artists = np.array(getTopArtists_user(\"aidan_bbq\"))\n",
    "artists = np.array(getTopArtists(n=1000))"
   ]
  },
  {
   "cell_type": "code",
   "execution_count": 145,
   "id": "17f7208b-314e-4a77-bf7d-f877922ae255",
   "metadata": {
    "tags": []
   },
   "outputs": [
    {
     "data": {
      "text/plain": [
       "833"
      ]
     },
     "execution_count": 145,
     "metadata": {},
     "output_type": "execute_result"
    }
   ],
   "source": [
    "len(my_artists[~np.isin(my_artists,artists)])"
   ]
  },
  {
   "cell_type": "code",
   "execution_count": 150,
   "id": "338f5d63-88eb-4a9e-ac01-372463242d20",
   "metadata": {},
   "outputs": [
    {
     "name": "stdout",
     "output_type": "stream",
     "text": [
      "num toplisteners: 68214, new users: 47065, added: 0\n",
      "\texplored 803 artists\n",
      "num toplisteners: 68442, new users: 47174, added: 109\n",
      "\texplored 805 artists\n",
      "num toplisteners: 68442, new users: 47174, added: 0\n",
      "\texplored 805 artists\n",
      "num toplisteners: 68442, new users: 47174, added: 0\n",
      "\texplored 805 artists\n",
      "num toplisteners: 68442, new users: 47174, added: 0\n",
      "\texplored 805 artists\n",
      "num toplisteners: 68442, new users: 47174, added: 0\n",
      "\texplored 805 artists\n",
      "num toplisteners: 68442, new users: 47174, added: 0\n",
      "\texplored 805 artists\n"
     ]
    },
    {
     "ename": "KeyboardInterrupt",
     "evalue": "",
     "output_type": "error",
     "traceback": [
      "\u001b[1;31m---------------------------------------------------------------------------\u001b[0m",
      "\u001b[1;31mKeyboardInterrupt\u001b[0m                         Traceback (most recent call last)",
      "\u001b[1;32m<ipython-input-150-061099a1b0d3>\u001b[0m in \u001b[0;36m<module>\u001b[1;34m\u001b[0m\n\u001b[0;32m     14\u001b[0m \u001b[1;33m\u001b[0m\u001b[0m\n\u001b[0;32m     15\u001b[0m     \u001b[0mi\u001b[0m\u001b[1;33m+=\u001b[0m\u001b[1;36m1\u001b[0m\u001b[1;33m\u001b[0m\u001b[1;33m\u001b[0m\u001b[0m\n\u001b[1;32m---> 16\u001b[1;33m     \u001b[0mtime\u001b[0m\u001b[1;33m.\u001b[0m\u001b[0msleep\u001b[0m\u001b[1;33m(\u001b[0m\u001b[1;36m20\u001b[0m\u001b[1;33m)\u001b[0m\u001b[1;33m\u001b[0m\u001b[1;33m\u001b[0m\u001b[0m\n\u001b[0m",
      "\u001b[1;31mKeyboardInterrupt\u001b[0m: "
     ]
    }
   ],
   "source": [
    "i=0\n",
    "while i<50:\n",
    "    # toplisteners = pd.read_csv(\"./output/toplisteners.csv\")\n",
    "    datafile = \"./output/toplisteners_me.csv\"\n",
    "    with open(datafile, 'r', encoding=\"utf-8\") as f:\n",
    "        lines = [[node for node in re.split('[,](?!\\s)',edge.strip('\\n'))[:2]] for edge in f.readlines() if edge[0][0] != '#']\n",
    "        topls = pd.DataFrame(lines, columns = [\"artist\", \"user\"])\n",
    "    prevlen = len(tot_userset)\n",
    "    new_userset = tot_userset.union(topls.user)\n",
    "    added=len(new_userset) - prevlen\n",
    "    print(f\"num toplisteners: {topls.shape[0]}, new users: {added}, added: {added-prevadded}\")\n",
    "    print(f\"\\texplored {len(np.unique(topls.artist))} artists\")\n",
    "    prevadded = added\n",
    "    \n",
    "    i+=1\n",
    "    time.sleep(20)"
   ]
  },
  {
   "cell_type": "code",
   "execution_count": 40,
   "id": "5c212cd6-50a5-4dc7-a94a-078dfbad5522",
   "metadata": {},
   "outputs": [],
   "source": [
    "topls.to_csv(\"./output/topls.psv\", sep=\"|\")"
   ]
  },
  {
   "cell_type": "code",
   "execution_count": 94,
   "id": "1ed7e492-0b1b-46eb-908d-750b72028a0b",
   "metadata": {},
   "outputs": [],
   "source": [
    "edges = None\n",
    "datafile = \"./output/both-neighs.csv\"\n",
    "with open(datafile, 'r') as f:\n",
    "    lines = [[node for node in re.split(',',edge.strip('\\n'))[:2]] for edge in f.readlines() if edge[0][0] != '#']\n",
    "    edges = np.array(lines)\n",
    "tot_userset = set(edges.flatten())\n",
    "tot_explored = np.array(set(edges[:,0]))"
   ]
  },
  {
   "cell_type": "code",
   "execution_count": 53,
   "id": "4ff3d8dd-b1cf-4296-ac31-4301bf1c9162",
   "metadata": {},
   "outputs": [
    {
     "name": "stdout",
     "output_type": "stream",
     "text": [
      "32053 23090\n"
     ]
    }
   ],
   "source": [
    "prevlen = len(tot_userset)\n",
    "tot_userset = tot_userset.union(topls.user)\n",
    "print(topls.shape[0], len(tot_userset) - prevlen)"
   ]
  },
  {
   "cell_type": "code",
   "execution_count": 93,
   "id": "2a0eeef0-04e6-42b5-b03c-8b0f3f05d073",
   "metadata": {},
   "outputs": [
    {
     "ename": "IndentationError",
     "evalue": "unexpected indent (<ipython-input-93-3361f5027a65>, line 2)",
     "output_type": "error",
     "traceback": [
      "\u001b[1;36m  File \u001b[1;32m\"<ipython-input-93-3361f5027a65>\"\u001b[1;36m, line \u001b[1;32m2\u001b[0m\n\u001b[1;33m    datafile = \"./output/both-neighs.csv\"\u001b[0m\n\u001b[1;37m    ^\u001b[0m\n\u001b[1;31mIndentationError\u001b[0m\u001b[1;31m:\u001b[0m unexpected indent\n"
     ]
    }
   ],
   "source": [
    "edges = None\n",
    "    datafile = \"./output/both-neighs.csv\"\n",
    "    with open(datafile, 'r') as f:\n",
    "        lines = [[node for node in re.split(',',edge.strip('\\n'))[:2]] for edge in f.readlines() if edge[0][0] != '#']\n",
    "        edges = np.array(lines)\n",
    "    tot_userset = set(edges.flatten())\n",
    "    tot_explored = np.array(set(edges[:,0]))\n",
    "    \n",
    "for i in range(1000):\n",
    "    datafile = \"./output/toplisteners.csv\"\n",
    "    with open(datafile, 'r') as f:\n",
    "        lines = [[node for node in re.split('[,](?!\\s)',edge.strip('\\n'))[:2]] for edge in f.readlines() if edge[0][0] != '#']\n",
    "        topls = pd.DataFrame(lines, columns = [\"artist\", \"user\"])\n",
    "        \n",
    "    topls.to_csv(\"./output/topls.psv\", sep=\"|\")\n",
    "\n",
    "    prevlen = len(tot_userset)\n",
    "    tot_userset = tot_userset.union(topls.user)\n",
    "    print(f\"num toplisteners: {topls.shape[0]}, new users: {len(tot_userset) - prevlen}\")\n",
    "    print(f\"\\texplored {len(np.unique(topls.artist))} artists\")\n",
    "    time.sleep(10)"
   ]
  }
 ],
 "metadata": {
  "kernelspec": {
   "display_name": "Python 3",
   "language": "python",
   "name": "python3"
  },
  "language_info": {
   "codemirror_mode": {
    "name": "ipython",
    "version": 3
   },
   "file_extension": ".py",
   "mimetype": "text/x-python",
   "name": "python",
   "nbconvert_exporter": "python",
   "pygments_lexer": "ipython3",
   "version": "3.8.8"
  }
 },
 "nbformat": 4,
 "nbformat_minor": 5
}
